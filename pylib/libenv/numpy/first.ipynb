{
 "cells": [
  {
   "cell_type": "markdown",
   "id": "13b2064c",
   "metadata": {},
   "source": [
    "# Numpy"
   ]
  },
  {
   "cell_type": "code",
   "execution_count": 43,
   "id": "a8e44bc3",
   "metadata": {},
   "outputs": [],
   "source": [
    "import numpy as np # import numpy lib\n",
    "import time"
   ]
  },
  {
   "cell_type": "markdown",
   "id": "80c2482c",
   "metadata": {},
   "source": [
    "# List vs Array"
   ]
  },
  {
   "cell_type": "code",
   "execution_count": 44,
   "id": "7066a74f",
   "metadata": {},
   "outputs": [
    {
     "name": "stdout",
     "output_type": "stream",
     "text": [
      "Python List: [1, 2, 3, 4]\n",
      "Python List multiplication : [1, 2, 3, 4, 1, 2, 3, 4]\n"
     ]
    }
   ],
   "source": [
    "py_list=[1,2,3,4]\n",
    "print(f\"Python List: {py_list}\")\n",
    "print(f\"Python List multiplication : {py_list*2}\") # it duplicate the value of the original list one more types orignal + new so two times"
   ]
  },
  {
   "cell_type": "code",
   "execution_count": 45,
   "id": "65ab329c",
   "metadata": {},
   "outputs": [
    {
     "name": "stdout",
     "output_type": "stream",
     "text": [
      "Numpy array:[1 2 3 4]\n",
      "Numpy array:[2 4 6 8]\n"
     ]
    }
   ],
   "source": [
    "np_array=np.array([1,2,3,4])\n",
    "print(f\"Numpy array:{np_array}\")\n",
    "print(f\"Numpy array:{np_array*2}\") # here we multiply , the scalar value multiply on each element inside the array(1D array or single row of matrix)"
   ]
  },
  {
   "cell_type": "code",
   "execution_count": 46,
   "id": "88915b74",
   "metadata": {},
   "outputs": [
    {
     "name": "stdout",
     "output_type": "stream",
     "text": [
      "\n",
      "List Operation Time:0.037786006927490234\n",
      "[    20     26     32 ... 199982 199988 199994]\n",
      "\n",
      "Numpy Operation Time:0.0032858848571777344\n"
     ]
    }
   ],
   "source": [
    "start=time.time()\n",
    "py_list1=[i*2 for i in range(100000)]\n",
    "print(f\"\\nList Operation Time:{time.time()-start}\")\n",
    "start=time.time()\n",
    "np_array1=np.arange(10,100000,3)*2 # arrange(start , stop, step)\n",
    "print(np_array1)\n",
    "print(f\"\\nNumpy Operation Time:{time.time()-start}\")"
   ]
  },
  {
   "cell_type": "markdown",
   "id": "2fd6a72f",
   "metadata": {},
   "source": [
    "# Creating Array from Scratch with numpy method"
   ]
  },
  {
   "cell_type": "code",
   "execution_count": null,
   "id": "a7747fc7",
   "metadata": {},
   "outputs": [
    {
     "name": "stdout",
     "output_type": "stream",
     "text": [
      "Matrix:\n",
      "[[0. 0. 0.]\n",
      " [0. 0. 0.]]\n",
      "Matrix:\n",
      "[[1. 1. 1.]\n",
      " [1. 1. 1.]]\n",
      "Matrix:\n",
      "[[9 9 9]\n",
      " [9 9 9]]\n",
      "Matrix:\n",
      "[[0.99204224 0.21627085 0.01818023 0.64141579]\n",
      " [0.78473033 0.36643209 0.48609381 0.4582173 ]\n",
      " [0.47674959 0.59582712 0.43162558 0.55703228]\n",
      " [0.93417546 0.1572279  0.38027862 0.75248475]]\n",
      "fix:[[10.  0.  0. 10.]\n",
      " [10.  0.  0.  0.]\n",
      " [ 0. 10.  0. 10.]\n",
      " [10.  0.  0. 10.]]\n",
      "Sequence: [ 0  3  6  9 12 15 18]\n"
     ]
    }
   ],
   "source": [
    "np_zeros=np.zeros((2,3)) # it create 2 by 3 matrix and this conatain 0 as it's elements\n",
    "print(f\"Matrix:\\n{np_zeros}\")\n",
    "np_ones=np.ones((2,3)) # it create 2 by 3 matrix and this conatain 1 as it's elements\n",
    "print(f\"Matrix:\\n{np_ones}\")\n",
    "np_full=np.full((2,3),9) # it create 2 by 3 matrix and this conatain 9 as it's elements\n",
    "print(f\"Matrix:\\n{np_full}\")\n",
    "\n",
    "np_random=np.random.random((4,4))\n",
    "fix=np_random.round(0)*10\n",
    "\n",
    "print(f\"Matrix:\\n{np_random}\")\n",
    "print(f\"fix:{fix}\")\n",
    "np_sequence=np.arange(0,20,3)\n",
    "print(f\"Sequence: {np_sequence}\")\n",
    "\n",
    "\n"
   ]
  },
  {
   "cell_type": "markdown",
   "id": "9fd3cbb8",
   "metadata": {},
   "source": [
    "### Vector  Matrix and Tensor"
   ]
  },
  {
   "cell_type": "code",
   "execution_count": 49,
   "id": "985bdb8f",
   "metadata": {},
   "outputs": [
    {
     "name": "stdout",
     "output_type": "stream",
     "text": [
      "Vector is: [1 2 3 4 5]\n",
      "Matrix is: [[1 2 3]]\n",
      "Tensor:[[[ 2  3]\n",
      "  [12 45]\n",
      "  [ 4  5]]]\n"
     ]
    }
   ],
   "source": [
    "vector=np.array([1,2,3,4,5]) # 1D array is called vector\n",
    "print(f\"Vector is: {vector}\")\n",
    "\n",
    "\n",
    "matrix=np.array([[1,2,3]]) # 2D array is called matrix\n",
    "print(f\"Matrix is: {matrix}\")\n",
    "\n",
    "\n",
    "tensor=np.array([[[2,3],[12,45],[4,5]]]) # More than 2D array is called Tensor\n",
    "print(f\"Tensor:{tensor}\")\n",
    "\n"
   ]
  },
  {
   "cell_type": "markdown",
   "id": "ed875deb",
   "metadata": {},
   "source": [
    "#### Array Properties"
   ]
  },
  {
   "cell_type": "code",
   "execution_count": null,
   "id": "29df7892",
   "metadata": {},
   "outputs": [],
   "source": [
    "np_arr=np.array([\n",
    "    [1,2],\n",
    "    [3,4]\n",
    "])\n",
    "\n",
    "print(f\"Shap of np_arr:{np_arr.shape}\") # this property of array return the total number of row and column in a matrix \n",
    "print(f\"Dimension of np_arr:{np_arr.ndim}\") # this property of array return the dimension of matrix\n",
    "print(f\"Size of np_arr:{np_arr.size}\") # this property of array return the size of total number of element in the matrix\n",
    "print(f\"DataType of np_arr:{np_arr.dtype}\") # this property of array return the datatype of the array"
   ]
  },
  {
   "cell_type": "markdown",
   "id": "254096a4",
   "metadata": {},
   "source": [
    "## Array Reshapping"
   ]
  },
  {
   "cell_type": "code",
   "execution_count": null,
   "id": "4f2e8da5",
   "metadata": {},
   "outputs": [],
   "source": []
  }
 ],
 "metadata": {
  "kernelspec": {
   "display_name": "pylib",
   "language": "python",
   "name": "python3"
  },
  "language_info": {
   "codemirror_mode": {
    "name": "ipython",
    "version": 3
   },
   "file_extension": ".py",
   "mimetype": "text/x-python",
   "name": "python",
   "nbconvert_exporter": "python",
   "pygments_lexer": "ipython3",
   "version": "3.11.13"
  }
 },
 "nbformat": 4,
 "nbformat_minor": 5
}
