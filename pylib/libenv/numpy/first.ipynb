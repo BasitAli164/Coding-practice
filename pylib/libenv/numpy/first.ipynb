{
 "cells": [
  {
   "cell_type": "markdown",
   "id": "13b2064c",
   "metadata": {},
   "source": [
    "# Numpy"
   ]
  },
  {
   "cell_type": "code",
   "execution_count": null,
   "id": "a8e44bc3",
   "metadata": {},
   "outputs": [],
   "source": [
    "import numpy as np # import numpy lib\n",
    "import time"
   ]
  },
  {
   "cell_type": "markdown",
   "id": "80c2482c",
   "metadata": {},
   "source": [
    "# List vs Array"
   ]
  },
  {
   "cell_type": "code",
   "execution_count": null,
   "id": "7066a74f",
   "metadata": {},
   "outputs": [],
   "source": [
    "py_list=[1,2,3,4]\n",
    "print(f\"Python List: {py_list}\")\n",
    "print(f\"Python List multiplication : {py_list*2}\") # it duplicate the value of the original list one more types orignal + new so two times"
   ]
  },
  {
   "cell_type": "code",
   "execution_count": null,
   "id": "65ab329c",
   "metadata": {},
   "outputs": [],
   "source": [
    "np_array=np.array([1,2,3,4])\n",
    "print(f\"Numpy array:{np_array}\")\n",
    "print(f\"Numpy array:{np_array*2}\") # here we multiply , the scalar value multiply on each element inside the array(1D array or single row of matrix)"
   ]
  },
  {
   "cell_type": "code",
   "execution_count": null,
   "id": "88915b74",
   "metadata": {},
   "outputs": [],
   "source": [
    "start=time.time()\n",
    "py_list1=[i*2 for i in range(100000)]\n",
    "print(f\"\\nList Operation Time:{time.time()-start}\")\n",
    "start=time.time()\n",
    "np_array1=np.arange(10,100000,3)*2 # arrange(start , stop, step)\n",
    "print(np_array1)\n",
    "print(f\"\\nNumpy Operation Time:{time.time()-start}\")"
   ]
  },
  {
   "cell_type": "markdown",
   "id": "2fd6a72f",
   "metadata": {},
   "source": [
    "# Creating Array from Scratch with numpy method"
   ]
  },
  {
   "cell_type": "code",
   "execution_count": null,
   "id": "a7747fc7",
   "metadata": {},
   "outputs": [
    {
     "name": "stdout",
     "output_type": "stream",
     "text": [
      "Matrix:\n",
      "[[0. 0. 0.]\n",
      " [0. 0. 0.]]\n",
      "Matrix:\n",
      "[[1. 1. 1.]\n",
      " [1. 1. 1.]]\n",
      "Matrix:\n",
      "[[9 9 9]\n",
      " [9 9 9]]\n",
      "Matrix:\n",
      "[[0.34002851 0.93318507 0.16173025 0.4001632 ]\n",
      " [0.2828426  0.31872734 0.08958348 0.16085947]\n",
      " [0.08840661 0.52599637 0.08772778 0.15161133]\n",
      " [0.27339268 0.98289197 0.78169325 0.29991495]]\n",
      "fix:<class 'int'>\n"
     ]
    }
   ],
   "source": [
    "np_zeros=np.zeros((2,3)) # it create 2 by 3 matrix and this conatain 0 as it's elements\n",
    "print(f\"Matrix:\\n{np_zeros}\")\n",
    "np_ones=np.ones((2,3)) # it create 2 by 3 matrix and this conatain 1 as it's elements\n",
    "print(f\"Matrix:\\n{np_ones}\")\n",
    "np_full=np.full((2,3),9) # it create 2 by 3 matrix and this conatain 9 as it's elements\n",
    "print(f\"Matrix:\\n{np_full}\")\n",
    "\n",
    "np_random=np.random.random((4,4))\n",
    "fix=np_random.round(0)*10\n",
    "\n",
    "print(f\"Matrix:\\n{np_random}\")\n",
    "print(f\"fix:{fix}\")"
   ]
  }
 ],
 "metadata": {
  "kernelspec": {
   "display_name": "pylib",
   "language": "python",
   "name": "python3"
  },
  "language_info": {
   "codemirror_mode": {
    "name": "ipython",
    "version": 3
   },
   "file_extension": ".py",
   "mimetype": "text/x-python",
   "name": "python",
   "nbconvert_exporter": "python",
   "pygments_lexer": "ipython3",
   "version": "3.11.13"
  }
 },
 "nbformat": 4,
 "nbformat_minor": 5
}
