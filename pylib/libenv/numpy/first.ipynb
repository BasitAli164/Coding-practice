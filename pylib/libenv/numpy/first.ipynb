{
 "cells": [
  {
   "cell_type": "markdown",
   "id": "13b2064c",
   "metadata": {},
   "source": [
    "# Numpy"
   ]
  },
  {
   "cell_type": "code",
   "execution_count": 6,
   "id": "a8e44bc3",
   "metadata": {},
   "outputs": [],
   "source": [
    "import numpy as np # import numpy lib\n",
    "import time"
   ]
  },
  {
   "cell_type": "markdown",
   "id": "80c2482c",
   "metadata": {},
   "source": [
    "# List vs Array"
   ]
  },
  {
   "cell_type": "code",
   "execution_count": null,
   "id": "7066a74f",
   "metadata": {},
   "outputs": [
    {
     "name": "stdout",
     "output_type": "stream",
     "text": [
      "Python List: [1, 2, 3, 4]\n",
      "Python List multiplication : [1, 2, 3, 4, 1, 2, 3, 4]\n"
     ]
    }
   ],
   "source": [
    "py_list=[1,2,3,4]\n",
    "print(f\"Python List: {py_list}\")\n",
    "print(f\"Python List multiplication : {py_list*2}\") # it duplicate the value of the original list one more types orignal + new so two times"
   ]
  },
  {
   "cell_type": "code",
   "execution_count": null,
   "id": "65ab329c",
   "metadata": {},
   "outputs": [
    {
     "name": "stdout",
     "output_type": "stream",
     "text": [
      "Numpy array:[1 2 3 4]\n",
      "Numpy array:[2 4 6 8]\n"
     ]
    }
   ],
   "source": [
    "np_array=np.array([1,2,3,4])\n",
    "print(f\"Numpy array:{np_array}\")\n",
    "print(f\"Numpy array:{np_array*2}\") # here we multiply , the scalar value multiply on each element inside the array(1D array or single row of matrix)"
   ]
  },
  {
   "cell_type": "code",
   "execution_count": null,
   "id": "88915b74",
   "metadata": {},
   "outputs": [
    {
     "name": "stdout",
     "output_type": "stream",
     "text": [
      "\n",
      "List Operation Time:0.00892329216003418\n",
      "[    20     26     32 ... 199982 199988 199994]\n",
      "\n",
      "Numpy Operation Time:0.0010879039764404297\n"
     ]
    }
   ],
   "source": [
    "start=time.time()\n",
    "py_list1=[i*2 for i in range(100000)]\n",
    "print(f\"\\nList Operation Time:{time.time()-start}\")\n",
    "start=time.time()\n",
    "np_array1=np.arange(10,100000,3)*2 # arrange(start , stop, step)\n",
    "print(np_array1)\n",
    "print(f\"\\nNumpy Operation Time:{time.time()-start}\")"
   ]
  },
  {
   "cell_type": "code",
   "execution_count": null,
   "id": "2fd6a72f",
   "metadata": {},
   "outputs": [],
   "source": [
    "\n"
   ]
  }
 ],
 "metadata": {
  "kernelspec": {
   "display_name": "pylib",
   "language": "python",
   "name": "python3"
  },
  "language_info": {
   "codemirror_mode": {
    "name": "ipython",
    "version": 3
   },
   "file_extension": ".py",
   "mimetype": "text/x-python",
   "name": "python",
   "nbconvert_exporter": "python",
   "pygments_lexer": "ipython3",
   "version": "3.11.13"
  }
 },
 "nbformat": 4,
 "nbformat_minor": 5
}
