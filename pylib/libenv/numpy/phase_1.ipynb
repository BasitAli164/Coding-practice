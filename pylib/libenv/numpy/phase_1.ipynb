{
 "cells": [
  {
   "cell_type": "markdown",
   "id": "13b2064c",
   "metadata": {},
   "source": [
    "# Numpy\n",
    "#### Here we discuss about the numpy basic"
   ]
  },
  {
   "cell_type": "code",
   "execution_count": null,
   "id": "a8e44bc3",
   "metadata": {},
   "outputs": [],
   "source": [
    "import numpy as np # import numpy lib\n",
    "import time"
   ]
  },
  {
   "cell_type": "markdown",
   "id": "80c2482c",
   "metadata": {},
   "source": [
    "# List vs Array"
   ]
  },
  {
   "cell_type": "code",
   "execution_count": null,
   "id": "7066a74f",
   "metadata": {},
   "outputs": [],
   "source": [
    "py_list=[1,2,3,4]\n",
    "print(f\"Python List: {py_list}\")\n",
    "print(f\"Python List multiplication : {py_list*2}\") # it duplicate the value of the original list one more types orignal + new so two times"
   ]
  },
  {
   "cell_type": "code",
   "execution_count": null,
   "id": "65ab329c",
   "metadata": {},
   "outputs": [],
   "source": [
    "np_array=np.array([1,2,3,4])\n",
    "print(f\"Numpy array:{np_array}\")\n",
    "print(f\"Numpy array:{np_array*2}\") # here we multiply , the scalar value multiply on each element inside the array(1D array or single row of matrix)"
   ]
  },
  {
   "cell_type": "code",
   "execution_count": null,
   "id": "88915b74",
   "metadata": {},
   "outputs": [],
   "source": [
    "start=time.time()\n",
    "py_list1=[i*2 for i in range(100000)]\n",
    "print(f\"\\nList Operation Time:{time.time()-start}\")\n",
    "start=time.time()\n",
    "np_array1=np.arange(10,100000,3)*2 # arrange(start , stop, step)\n",
    "print(np_array1)\n",
    "print(f\"\\nNumpy Operation Time:{time.time()-start}\")"
   ]
  },
  {
   "cell_type": "markdown",
   "id": "2fd6a72f",
   "metadata": {},
   "source": [
    "# Creating Array from Scratch with numpy method"
   ]
  },
  {
   "cell_type": "code",
   "execution_count": null,
   "id": "a7747fc7",
   "metadata": {},
   "outputs": [],
   "source": [
    "np_zeros=np.zeros((2,3)) # it create 2 by 3 matrix and this conatain 0 as it's elements\n",
    "print(f\"Matrix:\\n{np_zeros}\")\n",
    "np_ones=np.ones((2,3)) # it create 2 by 3 matrix and this conatain 1 as it's elements\n",
    "print(f\"Matrix:\\n{np_ones}\")\n",
    "np_full=np.full((2,3),9) # it create 2 by 3 matrix and this conatain 9 as it's elements\n",
    "print(f\"Matrix:\\n{np_full}\")\n",
    "\n",
    "np_random=np.random.random((4,4))\n",
    "fix=np_random.round(0)*10\n",
    "\n",
    "print(f\"Matrix:\\n{np_random}\")\n",
    "print(f\"fix:{fix}\")\n",
    "np_sequence=np.arange(0,20,3)\n",
    "print(f\"Sequence: {np_sequence}\")\n",
    "\n",
    "\n"
   ]
  },
  {
   "cell_type": "markdown",
   "id": "9fd3cbb8",
   "metadata": {},
   "source": [
    "### Vector  Matrix and Tensor"
   ]
  },
  {
   "cell_type": "code",
   "execution_count": null,
   "id": "985bdb8f",
   "metadata": {},
   "outputs": [],
   "source": [
    "vector=np.array([1,2,3,4,5]) # 1D array is called vector\n",
    "print(f\"Vector is: {vector}\")\n",
    "\n",
    "\n",
    "matrix=np.array([[1,2,3]]) # 2D array is called matrix\n",
    "print(f\"Matrix is: {matrix}\")\n",
    "\n",
    "\n",
    "tensor=np.array([[[2,3],[12,45],[4,5]]]) # More than 2D array is called Tensor\n",
    "print(f\"Tensor:{tensor}\")\n",
    "\n"
   ]
  },
  {
   "cell_type": "markdown",
   "id": "ed875deb",
   "metadata": {},
   "source": [
    "#### Array Properties"
   ]
  },
  {
   "cell_type": "code",
   "execution_count": null,
   "id": "29df7892",
   "metadata": {},
   "outputs": [],
   "source": [
    "np_arr=np.array([\n",
    "    [1,2],\n",
    "    [3,4]\n",
    "])\n",
    "\n",
    "print(f\"Shap of np_arr:{np_arr.shape}\") # this property of array return the total number of row and column in a matrix \n",
    "print(f\"Dimension of np_arr:{np_arr.ndim}\") # this property of array return the dimension of matrix\n",
    "print(f\"Size of np_arr:{np_arr.size}\") # this property of array return the size of total number of element in the matrix\n",
    "print(f\"DataType of np_arr:{np_arr.dtype}\") # this property of array return the datatype of the array"
   ]
  },
  {
   "cell_type": "markdown",
   "id": "254096a4",
   "metadata": {},
   "source": [
    "## Array Reshapping\n",
    "Here we discuss about reshape , flatten and ravle method\n",
    "reshape--> change the 1D array or vector into matrix(2D array) or tensor(more than 2D array)\n",
    "flatten--> return copy of original array\n",
    "ravle--> return the original array"
   ]
  },
  {
   "cell_type": "code",
   "execution_count": null,
   "id": "4f2e8da5",
   "metadata": {},
   "outputs": [],
   "source": [
    "arr=np.arange(12) # create a vector in a sequece number from 0 to 11\n",
    "print(f\"Array: {arr.size}\")\n",
    "\n",
    "\n",
    "reshap=arr.reshape((3,4)) # reshap or convert the above array into 3 by 4 matrix\n",
    "print(f\"Reshap Array is:{reshap}\")\n",
    "\n",
    "\n",
    "flatten=reshap.flatten() # convert into again vector or 1D array if the array in the form of matrix or tensor and return the copy of orignal array \n",
    "print(f\"Flattend Array is:{flatten}\")\n",
    "\n",
    "\n",
    "raveled=reshap.ravel() #  convert into again vector or 1D array if the array in the form of matrix or tensor and return the orignal array\n",
    "print(f\"Raveled Array is:{raveled}\")\n",
    "\n",
    "\n",
    "\n",
    "transpose=reshap.T # use T for taking transpose of any matrix\n",
    "print(f\"Transpose of the Reshap array is:{transpose} \")"
   ]
  },
  {
   "cell_type": "markdown",
   "id": "31b6410d",
   "metadata": {},
   "source": [
    "# Summary "
   ]
  },
  {
   "cell_type": "markdown",
   "id": "3368306a",
   "metadata": {},
   "source": [
    "#### In above we will discuss the following topics which are:"
   ]
  },
  {
   "cell_type": "markdown",
   "id": "4079286e",
   "metadata": {},
   "source": [
    "1. Introduction of numpy \n",
    "2. Installation porcess of numpy\n",
    "3. Differentiat between numpy array and python list\n",
    "4. Discribe the vector,matrix and Tensor\n",
    "    ###### Vector: 1D Array\n",
    "    ###### Matrix: 2D Array\n",
    "    ###### Tensor: More than 2D Array\n",
    "\n",
    "5. Describe the following properties of the numpy array\n",
    "    i.      Shape   :- return the number of rows and column like (2,3), (2,4) etc\n",
    "    ii.     ndim    :- return the total number of dimension of the array\n",
    "    iii.    size    :- return the total number of element inside the array\n",
    "    iv.     dtype   :- return the data type of the array\n",
    "\n",
    "6. Describe the follwoing method of the numpy array\n",
    "    i.      zeros()             :- return the matrix of 0's element\n",
    "    ii.     ones()              :- return the matrix of 1's element\n",
    "    iii.    full()              :- return the matrix of constant value's element which we provide\n",
    "    iv.     random.random()     :- return the matrix of random value's element\n",
    "    v.      reshape():          :- use to change the vector array shape into matrix and tensor array\n",
    "    vi.     flatten() & eval()  :-  both are use to change the shap of matrix and tensor array into vector \n",
    "                                    array but difference is flatten work on copy of the original while eval method work on original array\n",
    "    vii.    T                   :-  Use to take transpose of any array   "
   ]
  }
 ],
 "metadata": {
  "kernelspec": {
   "display_name": "pylib",
   "language": "python",
   "name": "python3"
  },
  "language_info": {
   "codemirror_mode": {
    "name": "ipython",
    "version": 3
   },
   "file_extension": ".py",
   "mimetype": "text/x-python",
   "name": "python",
   "nbconvert_exporter": "python",
   "pygments_lexer": "ipython3",
   "version": "3.11.13"
  }
 },
 "nbformat": 4,
 "nbformat_minor": 5
}
