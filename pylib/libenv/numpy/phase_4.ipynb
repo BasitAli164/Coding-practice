{
 "cells": [
  {
   "cell_type": "code",
   "execution_count": 1,
   "id": "ab7dba9d",
   "metadata": {},
   "outputs": [],
   "source": [
    "import numpy as np;"
   ]
  },
  {
   "cell_type": "code",
   "execution_count": 2,
   "id": "9c7265c3",
   "metadata": {},
   "outputs": [],
   "source": [
    "arr1=np.array([[1,2,3],[4,5,6]])\n",
    "arr2=np.random.rand(3,3)\n",
    "arr3=np.zeros((4,4))"
   ]
  },
  {
   "cell_type": "markdown",
   "id": "48081a59",
   "metadata": {},
   "source": [
    "## Save in local Disk not in RAM"
   ]
  },
  {
   "cell_type": "code",
   "execution_count": null,
   "id": "def50c71",
   "metadata": {},
   "outputs": [],
   "source": [
    "np.save(\"arr1.npy\",arr1)\n",
    "np.save(\"arr2.npy\",arr2)\n",
    "np.save(\"arr3.npy\",arr3)"
   ]
  }
 ],
 "metadata": {
  "kernelspec": {
   "display_name": "pylib",
   "language": "python",
   "name": "python3"
  },
  "language_info": {
   "codemirror_mode": {
    "name": "ipython",
    "version": 3
   },
   "file_extension": ".py",
   "mimetype": "text/x-python",
   "name": "python",
   "nbconvert_exporter": "python",
   "pygments_lexer": "ipython3",
   "version": "3.11.13"
  }
 },
 "nbformat": 4,
 "nbformat_minor": 5
}
