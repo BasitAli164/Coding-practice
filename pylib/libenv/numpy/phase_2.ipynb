{
 "cells": [
  {
   "cell_type": "markdown",
   "id": "a806f341",
   "metadata": {},
   "source": [
    "# Numpy Array Operation"
   ]
  },
  {
   "cell_type": "code",
   "execution_count": null,
   "id": "8156fb5d",
   "metadata": {
    "vscode": {
     "languageId": "plaintext"
    }
   },
   "outputs": [],
   "source": []
  }
 ],
 "metadata": {
  "language_info": {
   "name": "python"
  }
 },
 "nbformat": 4,
 "nbformat_minor": 5
}
