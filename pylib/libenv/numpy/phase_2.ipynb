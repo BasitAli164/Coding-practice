{
 "cells": [
  {
   "cell_type": "markdown",
   "id": "a806f341",
   "metadata": {},
   "source": [
    "# Numpy Array Operation"
   ]
  },
  {
   "cell_type": "code",
   "execution_count": 1,
   "id": "8156fb5d",
   "metadata": {},
   "outputs": [],
   "source": [
    "import numpy as np; # import numpy library and set alias"
   ]
  },
  {
   "cell_type": "markdown",
   "id": "067591d3",
   "metadata": {},
   "source": [
    "### Inexing and Slicing"
   ]
  },
  {
   "cell_type": "code",
   "execution_count": null,
   "id": "4b0e2007",
   "metadata": {},
   "outputs": [
    {
     "name": "stdout",
     "output_type": "stream",
     "text": [
      "Array is: [ 0  2  4  6  8 10 12 14 16 18 20 22 24 26 28 30 32 34 36 38]\n",
      "Basic Slicing: [ 4  6  8 10 12 14]\n",
      "Basic Slicing with Steps: [ 4  8 12 16 20]\n",
      "Negtive Indexing: 30\n"
     ]
    }
   ],
   "source": [
    "# For 1D array\n",
    "np_1Darr=np.arange(0,40,2) # create an 1D array using arange method\n",
    "print(f\"Array is: {np_1Darr}\") # print the np_arr\n",
    "print(f\"Basic Slicing: {np_1Darr[2:8]}\") # here use slicing where [starting Index:Ending Index]\n",
    "print(f\"Basic Slicing with Steps: {np_1Darr[2:12:2]}\") # here also use slicing with steps where [Starting index:EndingIndex: Steps(skip how many value)]\n",
    "print(f\"Specific Element:{np_1Darr[4]}\")\n",
    "print(f\"Negtive Indexing: {np_1Darr[-5]}\")# Return the value which are lies on index 5 from right side\n"
   ]
  },
  {
   "cell_type": "code",
   "execution_count": null,
   "id": "bfcfd1fc",
   "metadata": {},
   "outputs": [
    {
     "name": "stdout",
     "output_type": "stream",
     "text": [
      "Marix is: [[1 2 3]\n",
      " [4 5 6]\n",
      " [7 8 9]]\n",
      "Specific Element:7\n",
      "Entire Row: [4 5 6]\n",
      "Entire Column: [2 5 8]\n"
     ]
    }
   ],
   "source": [
    "#For 2D array\n",
    "np_2D_arr=np.array([[1,2,3],[4,5,6],[7,8,9]]) # Create a matrix \n",
    "print(f\"Marix is: {np_2D_arr}\") # print matrix\n",
    "print(f\"Specific Element:{np_2D_arr[2,0]}\") # Get a specific element from matrix where [row,column]\n",
    "print(f\"Entire Row: {np_2D_arr[1]}\") # Get an entire row \n",
    "print(f\"Entire Column: {np_2D_arr[:,1]}\")# Get an entire column\n"
   ]
  }
 ],
 "metadata": {
  "kernelspec": {
   "display_name": "pylib",
   "language": "python",
   "name": "python3"
  },
  "language_info": {
   "codemirror_mode": {
    "name": "ipython",
    "version": 3
   },
   "file_extension": ".py",
   "mimetype": "text/x-python",
   "name": "python",
   "nbconvert_exporter": "python",
   "pygments_lexer": "ipython3",
   "version": "3.11.13"
  }
 },
 "nbformat": 4,
 "nbformat_minor": 5
}
