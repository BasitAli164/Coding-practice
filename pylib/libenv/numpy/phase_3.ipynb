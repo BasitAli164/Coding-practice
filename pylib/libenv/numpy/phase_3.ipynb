{
 "cells": [
  {
   "cell_type": "markdown",
   "id": "f6abdb9b",
   "metadata": {},
   "source": [
    "# Advance Operation with Business Example"
   ]
  },
  {
   "cell_type": "code",
   "execution_count": 1,
   "id": "05fc3b1f",
   "metadata": {},
   "outputs": [],
   "source": [
    "import numpy as np;\n",
    "# import matplotlib.pyplot as plt;"
   ]
  },
  {
   "cell_type": "code",
   "execution_count": 2,
   "id": "849f3424",
   "metadata": {},
   "outputs": [
    {
     "name": "stdout",
     "output_type": "stream",
     "text": [
      "Data Analysis\n",
      "Sales Data is:  [[     1  15000  18000 220000 250000]\n",
      " [     2  17000  10000 960000 190000]\n",
      " [     3  13000  18000 300000 110000]\n",
      " [     4  14000  19000 200000 150000]\n",
      " [     5  15000  14000 800000 180000]]\n",
      "Sales Data shap is:  (5, 5)\n",
      "First Three resturant Sale: [[     1  15000  18000 220000 250000]\n",
      " [     2  17000  10000 960000 190000]\n",
      " [     3  13000  18000 300000 110000]]\n"
     ]
    }
   ],
   "source": [
    "salesData=np.array([\n",
    "    [1,15000,18000,220000,250000],\n",
    "    [2,17000,10000,960000,190000],\n",
    "    [3,13000,18000,300000,110000],\n",
    "    [4,14000,19000,200000,150000],\n",
    "    [5,15000,14000,800000,180000]\n",
    "])\n",
    "print(\"Data Analysis\")\n",
    "print(\"Sales Data is: \",salesData)\n",
    "print(\"Sales Data shap is: \",salesData.shape)\n",
    "print(\"First Three resturant Sale:\",salesData[0:3])\n"
   ]
  },
  {
   "cell_type": "markdown",
   "id": "582a571a",
   "metadata": {},
   "source": [
    "## Tatal Sales per Year"
   ]
  },
  {
   "cell_type": "code",
   "execution_count": 3,
   "id": "58dd38a8",
   "metadata": {},
   "outputs": [
    {
     "name": "stdout",
     "output_type": "stream",
     "text": [
      "Total Yearly:  [  74000   79000 2480000  880000]\n",
      "Total Resturant wise:  [ 503000 1177000  441000  383000 1009000]\n",
      "Min Yearly:[ 13000  10000 200000 110000]\n",
      "Min Resturantly:[15000 10000 13000 14000 14000]\n",
      "Max Sales of Specific Yealy:  17000\n",
      "Max Sales of Specific Resturantly:  [300000]\n",
      "Average Resturantly:[125750. 294250. 110250.  95750. 252250.]\n",
      "Average Yearly:[ 14800.  15800. 496000. 176000.]\n",
      "Accumulate Sum of Resturant: [[  15000   33000  253000  503000]\n",
      " [  17000   27000  987000 1177000]\n",
      " [  13000   31000  331000  441000]\n",
      " [  14000   33000  233000  383000]\n",
      " [  15000   29000  829000 1009000]]\n",
      "Accumulate Sum of Yearly: [[  15000   18000  220000  250000]\n",
      " [  32000   28000 1180000  440000]\n",
      " [  45000   46000 1480000  550000]\n",
      " [  59000   65000 1680000  700000]\n",
      " [  74000   79000 2480000  880000]]\n"
     ]
    }
   ],
   "source": [
    "total_yearly=np.sum(salesData[:,1:],axis=0)\n",
    "print(\"Total Yearly: \",total_yearly)\n",
    "\n",
    "total_resturantly=np.sum(salesData[:,1:],axis=1)\n",
    "print(\"Total Resturant wise: \",total_resturantly)\n",
    "\n",
    "\n",
    "minYearly=np.min(salesData[:,1:],axis=0)\n",
    "print(f\"Min Yearly:{minYearly}\")\n",
    "\n",
    "minResturantly=np.min(salesData[:,1:],axis=1)\n",
    "print(f\"Min Resturantly:{minResturantly}\")\n",
    "\n",
    "\n",
    "maxYearly=np.max(salesData[:,1:2])\n",
    "print(\"Max Sales of Specific Yealy: \",maxYearly)\n",
    "\n",
    "maxResturantly=np.max(salesData[2:3,],axis=1)\n",
    "print(\"Max Sales of Specific Resturantly: \",maxResturantly)\n",
    "\n",
    "\n",
    "\n",
    "avgRestrantly=np.average(salesData[:,1:],axis=1)\n",
    "print(f\"Average Resturantly:{avgRestrantly}\")\n",
    "\n",
    "avgYearly=np.mean(salesData[:,1:],axis=0)\n",
    "print(f\"Average Yearly:{avgYearly}\")\n",
    "\n",
    "\n",
    "\n",
    "accumlatarSaleResturantly=np.cumsum(salesData[:,1:],axis=1)\n",
    "print(\"Accumulate Sum of Resturant:\",accumlatarSaleResturantly)\n",
    "\n",
    "\n",
    "accumlatorSaleYearly=np.cumsum(salesData[:,1:],axis=0)\n",
    "print(\"Accumulate Sum of Yearly:\",accumlatorSaleYearly)\n",
    "\n"
   ]
  },
  {
   "cell_type": "markdown",
   "id": "a83373c0",
   "metadata": {},
   "source": [
    "## Graphical Representation"
   ]
  },
  {
   "cell_type": "code",
   "execution_count": null,
   "id": "5633fe23",
   "metadata": {},
   "outputs": [],
   "source": [
    "plt.figure(figsize=(10,6))\n",
    "plt.plot(np.mean(accumlatorSaleYearly,axis=0))\n",
    "plt.title(\"Average of cumulative Sales of accors Yearly\")\n",
    "plt.ylabel(\"Resturant Sales\")\n",
    "plt.xlabel(\"Yearly Sales\")\n",
    "plt.grid(True)\n",
    "plt.show()"
   ]
  },
  {
   "cell_type": "markdown",
   "id": "7fcf958b",
   "metadata": {},
   "source": [
    "# Vector Operation"
   ]
  },
  {
   "cell_type": "code",
   "execution_count": 11,
   "id": "13de93be",
   "metadata": {},
   "outputs": [
    {
     "name": "stdout",
     "output_type": "stream",
     "text": [
      "Vector Addition:[ 7  9 11 13 15]\n",
      "Vector Multiplication:[ 6 14 24 36 50]\n",
      "Dot Product:130\n",
      "Angle of Tow vector:0.26554161733900966\n"
     ]
    }
   ],
   "source": [
    "vector1=np.array([1,2,3,4,5])\n",
    "vector2=np.array([6,7,8,9,10])\n",
    "print(f\"Vector Addition:{vector1+vector2}\")\n",
    "print(f\"Vector Multiplication:{vector1*vector2}\")\n",
    "print(f\"Dot Product:{np.dot(vector1,vector2)}\")\n",
    "angle=np.arccos(np.dot(vector1,vector2)/(np.linalg.norm(vector1)*np.linalg.norm(vector2)))\n",
    "print(f\"Angle of Tow vector:{angle}\")\n"
   ]
  },
  {
   "cell_type": "markdown",
   "id": "e64c1fbb",
   "metadata": {},
   "source": [
    "## Vetorize Operation"
   ]
  },
  {
   "cell_type": "code",
   "execution_count": 13,
   "id": "f3a33285",
   "metadata": {},
   "outputs": [
    {
     "name": "stdout",
     "output_type": "stream",
     "text": [
      "Resturant Detail: ['biryani' 'chinese' 'pizza' 'burger' 'cafe']\n",
      "Vectorized Upper:['BIRYANI' 'CHINESE' 'PIZZA' 'BURGER' 'CAFE']\n"
     ]
    }
   ],
   "source": [
    "resturant_type=np.array([\"biryani\",\"chinese\",\"pizza\",\"burger\",\"cafe\"])\n",
    "print(\"Resturant Detail:\",resturant_type)\n",
    "\n",
    "\n",
    "vectorize_upper=np.vectorize(str.upper)\n",
    "print(f\"Vectorized Upper:{vectorize_upper(resturant_type)}\")"
   ]
  },
  {
   "cell_type": "markdown",
   "id": "090f9585",
   "metadata": {},
   "source": [
    "## BoradCast\n",
    "##### BoradCast is when we apply operation on vector with scalar value then it apply each element in vector , this machanism is called boradcast"
   ]
  },
  {
   "cell_type": "code",
   "execution_count": 28,
   "id": "d38cf2e1",
   "metadata": {},
   "outputs": [
    {
     "name": "stdout",
     "output_type": "stream",
     "text": [
      "Monthly Avg: [[ 1250.  1500. 18333. 20833.]\n",
      " [ 1417.   833. 80000. 15833.]\n",
      " [ 1083.  1500. 25000.  9167.]\n",
      " [ 1167.  1583. 16667. 12500.]\n",
      " [ 1250.  1167. 66667. 15000.]]\n"
     ]
    }
   ],
   "source": [
    "montly_avg=salesData[:,1:]/12\n",
    "print(\"Monthly Avg:\",montly_avg.round())"
   ]
  }
 ],
 "metadata": {
  "kernelspec": {
   "display_name": "pylib",
   "language": "python",
   "name": "python3"
  },
  "language_info": {
   "codemirror_mode": {
    "name": "ipython",
    "version": 3
   },
   "file_extension": ".py",
   "mimetype": "text/x-python",
   "name": "python",
   "nbconvert_exporter": "python",
   "pygments_lexer": "ipython3",
   "version": "3.11.13"
  }
 },
 "nbformat": 4,
 "nbformat_minor": 5
}
