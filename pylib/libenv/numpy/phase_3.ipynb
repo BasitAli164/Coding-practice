{
 "cells": [
  {
   "cell_type": "markdown",
   "id": "f6abdb9b",
   "metadata": {},
   "source": [
    "# Advance Operation with Business Example"
   ]
  },
  {
   "cell_type": "code",
   "execution_count": 6,
   "id": "05fc3b1f",
   "metadata": {},
   "outputs": [],
   "source": [
    "import numpy as np;"
   ]
  },
  {
   "cell_type": "code",
   "execution_count": null,
   "id": "849f3424",
   "metadata": {},
   "outputs": [
    {
     "name": "stdout",
     "output_type": "stream",
     "text": [
      "Data Analysis\n",
      "Sales Data is:  [[     1  15000  18000 220000 250000]\n",
      " [     2  17000  10000 960000 190000]\n",
      " [     3  13000  18000 300000 110000]\n",
      " [     4  14000  19000 200000 150000]\n",
      " [     5  15000  14000 800000 180000]]\n"
     ]
    },
    {
     "data": {
      "text/plain": [
       "(5, 5)"
      ]
     },
     "execution_count": 9,
     "metadata": {},
     "output_type": "execute_result"
    }
   ],
   "source": [
    "salesData=np.array([\n",
    "    [1,15000,18000,220000,250000],\n",
    "    [2,17000,10000,960000,190000],\n",
    "    [3,13000,18000,300000,110000],\n",
    "    [4,14000,19000,200000,150000],\n",
    "    [5,15000,14000,800000,180000]\n",
    "])\n",
    "print(\"Data Analysis\")\n",
    "print(\"Sales Data is: \",salesData)\n",
    "print(\"Sales Data shap is: \",salesData.shape)\n"
   ]
  }
 ],
 "metadata": {
  "kernelspec": {
   "display_name": "pylib",
   "language": "python",
   "name": "python3"
  },
  "language_info": {
   "codemirror_mode": {
    "name": "ipython",
    "version": 3
   },
   "file_extension": ".py",
   "mimetype": "text/x-python",
   "name": "python",
   "nbconvert_exporter": "python",
   "pygments_lexer": "ipython3",
   "version": "3.11.13"
  }
 },
 "nbformat": 4,
 "nbformat_minor": 5
}
