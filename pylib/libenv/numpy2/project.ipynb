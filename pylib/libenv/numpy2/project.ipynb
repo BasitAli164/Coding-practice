{
 "cells": [
  {
   "cell_type": "markdown",
   "id": "fa2c5f87",
   "metadata": {},
   "source": [
    "# Project\n"
   ]
  },
  {
   "cell_type": "markdown",
   "id": "816d3490",
   "metadata": {},
   "source": [
    "#### Import libraries "
   ]
  },
  {
   "cell_type": "code",
   "execution_count": null,
   "id": "d9e2b484",
   "metadata": {},
   "outputs": [],
   "source": [
    "import numpy as np;\n",
    "import pandas as pd;"
   ]
  },
  {
   "cell_type": "markdown",
   "id": "ede9599a",
   "metadata": {},
   "source": [
    "#### Loading the Dataset"
   ]
  },
  {
   "cell_type": "code",
   "execution_count": 5,
   "id": "2bec2281",
   "metadata": {},
   "outputs": [],
   "source": [
    "df=pd.read_csv('payment_fraud.csv')\n"
   ]
  },
  {
   "cell_type": "markdown",
   "id": "5df6e9d6",
   "metadata": {},
   "source": [
    "#### Checking the missing Value"
   ]
  },
  {
   "cell_type": "code",
   "execution_count": null,
   "id": "7d3a19e3",
   "metadata": {},
   "outputs": [],
   "source": [
    "print(\"Missing Value in each Value\")\n",
    "print(df.isnull().sum())"
   ]
  }
 ],
 "metadata": {
  "kernelspec": {
   "display_name": "pylib",
   "language": "python",
   "name": "python3"
  },
  "language_info": {
   "codemirror_mode": {
    "name": "ipython",
    "version": 3
   },
   "file_extension": ".py",
   "mimetype": "text/x-python",
   "name": "python",
   "nbconvert_exporter": "python",
   "pygments_lexer": "ipython3",
   "version": "3.11.13"
  }
 },
 "nbformat": 4,
 "nbformat_minor": 5
}
