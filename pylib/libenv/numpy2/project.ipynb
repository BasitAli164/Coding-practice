{
 "cells": [
  {
   "cell_type": "markdown",
   "id": "fa2c5f87",
   "metadata": {},
   "source": [
    "# Project\n"
   ]
  },
  {
   "cell_type": "code",
   "execution_count": 3,
   "id": "d9e2b484",
   "metadata": {},
   "outputs": [],
   "source": [
    "# import libraries\n",
    "import numpy as np;\n",
    "import pandas as pd;"
   ]
  },
  {
   "cell_type": "code",
   "execution_count": null,
   "id": "2bec2281",
   "metadata": {},
   "outputs": [
    {
     "name": "stdout",
     "output_type": "stream",
     "text": [
      "   accountAgeDays  numItems  localTime paymentMethod  paymentMethodAgeDays  \\\n",
      "0            29.0         1   4.745402        paypal             28.204861   \n",
      "1           725.0         1   4.742303   storecredit                   NaN   \n",
      "2           845.0         1   4.921318    creditcard              0.000000   \n",
      "3           503.0         1   4.886641    creditcard              0.000000   \n",
      "4          2000.0         1   5.040929    creditcard              0.000000   \n",
      "\n",
      "      Category  isWeekend  label  \n",
      "0     shopping          0      0  \n",
      "1  electronics          0      0  \n",
      "2         food          1      0  \n",
      "3  electronics          1      0  \n",
      "4     shopping          0      0  \n"
     ]
    }
   ],
   "source": [
    "df=pd.read_csv('payment_fraud.csv')\n"
   ]
  }
 ],
 "metadata": {
  "kernelspec": {
   "display_name": "pylib",
   "language": "python",
   "name": "python3"
  },
  "language_info": {
   "codemirror_mode": {
    "name": "ipython",
    "version": 3
   },
   "file_extension": ".py",
   "mimetype": "text/x-python",
   "name": "python",
   "nbconvert_exporter": "python",
   "pygments_lexer": "ipython3",
   "version": "3.11.13"
  }
 },
 "nbformat": 4,
 "nbformat_minor": 5
}
