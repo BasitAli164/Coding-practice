{
 "cells": [
  {
   "cell_type": "markdown",
   "id": "fa2c5f87",
   "metadata": {},
   "source": [
    "# Project\n"
   ]
  },
  {
   "cell_type": "markdown",
   "id": "816d3490",
   "metadata": {},
   "source": [
    "#### Import libraries "
   ]
  },
  {
   "cell_type": "code",
   "execution_count": 36,
   "id": "d9e2b484",
   "metadata": {},
   "outputs": [],
   "source": [
    "import numpy as np;\n",
    "import pandas as pd;"
   ]
  },
  {
   "cell_type": "markdown",
   "id": "ede9599a",
   "metadata": {},
   "source": [
    "#### Loading the Dataset"
   ]
  },
  {
   "cell_type": "code",
   "execution_count": 37,
   "id": "2bec2281",
   "metadata": {},
   "outputs": [],
   "source": [
    "df=pd.read_csv('payment_fraud1.csv')\n"
   ]
  },
  {
   "cell_type": "markdown",
   "id": "5df6e9d6",
   "metadata": {},
   "source": [
    "#### Checking the missing Value"
   ]
  },
  {
   "cell_type": "code",
   "execution_count": 38,
   "id": "7d3a19e3",
   "metadata": {},
   "outputs": [
    {
     "name": "stdout",
     "output_type": "stream",
     "text": [
      "Missing Value in each Value\n",
      "accountAgeDays          2\n",
      "numItems                0\n",
      "localTime               0\n",
      "paymentMethod           1\n",
      "paymentMethodAgeDays    1\n",
      "Category                0\n",
      "isWeekend               1\n",
      "label                   0\n",
      "dtype: int64\n"
     ]
    }
   ],
   "source": [
    "print(\"Missing Value in each Value\")\n",
    "print(df.isnull().sum())"
   ]
  },
  {
   "cell_type": "markdown",
   "id": "7170761d",
   "metadata": {},
   "source": [
    "#### Replace of fill another value on the place of nan value in dataset"
   ]
  },
  {
   "cell_type": "code",
   "execution_count": 39,
   "id": "9eb8dde4",
   "metadata": {},
   "outputs": [
    {
     "name": "stderr",
     "output_type": "stream",
     "text": [
      "C:\\Users\\aaa\\AppData\\Local\\Temp\\ipykernel_9660\\996682888.py:1: FutureWarning: A value is trying to be set on a copy of a DataFrame or Series through chained assignment using an inplace method.\n",
      "The behavior will change in pandas 3.0. This inplace method will never work because the intermediate object on which we are setting values always behaves as a copy.\n",
      "\n",
      "For example, when doing 'df[col].method(value, inplace=True)', try using 'df.method({col: value}, inplace=True)' or df[col] = df[col].method(value) instead, to perform the operation inplace on the original object.\n",
      "\n",
      "\n",
      "  df['accountAgeDays'].fillna(df['accountAgeDays'].mean(),inplace=True)\n",
      "C:\\Users\\aaa\\AppData\\Local\\Temp\\ipykernel_9660\\996682888.py:2: FutureWarning: A value is trying to be set on a copy of a DataFrame or Series through chained assignment using an inplace method.\n",
      "The behavior will change in pandas 3.0. This inplace method will never work because the intermediate object on which we are setting values always behaves as a copy.\n",
      "\n",
      "For example, when doing 'df[col].method(value, inplace=True)', try using 'df.method({col: value}, inplace=True)' or df[col] = df[col].method(value) instead, to perform the operation inplace on the original object.\n",
      "\n",
      "\n",
      "  df['isWeekend'].fillna(df['isWeekend'].mean(),inplace=True)\n",
      "C:\\Users\\aaa\\AppData\\Local\\Temp\\ipykernel_9660\\996682888.py:3: FutureWarning: A value is trying to be set on a copy of a DataFrame or Series through chained assignment using an inplace method.\n",
      "The behavior will change in pandas 3.0. This inplace method will never work because the intermediate object on which we are setting values always behaves as a copy.\n",
      "\n",
      "For example, when doing 'df[col].method(value, inplace=True)', try using 'df.method({col: value}, inplace=True)' or df[col] = df[col].method(value) instead, to perform the operation inplace on the original object.\n",
      "\n",
      "\n",
      "  df['paymentMethodAgeDays'].fillna(df['paymentMethodAgeDays'].median(),inplace=True)\n"
     ]
    }
   ],
   "source": [
    "df['accountAgeDays'].fillna(df['accountAgeDays'].mean(),inplace=True)\n",
    "df['isWeekend'].fillna(df['isWeekend'].mean(),inplace=True)\n",
    "df['paymentMethodAgeDays'].fillna(df['paymentMethodAgeDays'].median(),inplace=True)"
   ]
  },
  {
   "cell_type": "markdown",
   "id": "68727a0c",
   "metadata": {},
   "source": [
    "#### Replace the inf and -inf"
   ]
  },
  {
   "cell_type": "code",
   "execution_count": 40,
   "id": "c199abff",
   "metadata": {},
   "outputs": [
    {
     "name": "stdout",
     "output_type": "stream",
     "text": [
      "accountAgeDays          3\n",
      "numItems                0\n",
      "localTime               1\n",
      "paymentMethod           1\n",
      "paymentMethodAgeDays    0\n",
      "Category                0\n",
      "isWeekend               0\n",
      "label                   0\n",
      "dtype: int64\n"
     ]
    }
   ],
   "source": [
    "df.replace([np.inf,-np.inf,],np.nan,inplace=True)\n",
    "print(df.isnull().sum())\n",
    "df.fillna(df['accountAgeDays'].mean(),inplace=True)\n",
    "df.fillna(df['localTime'].median(),inplace=True)\n"
   ]
  },
  {
   "cell_type": "markdown",
   "id": "99606ddb",
   "metadata": {},
   "source": [
    "#### Remove Duplicate Value"
   ]
  },
  {
   "cell_type": "code",
   "execution_count": 41,
   "id": "1e38b25f",
   "metadata": {},
   "outputs": [],
   "source": [
    "df.drop_duplicates(inplace=True)"
   ]
  },
  {
   "cell_type": "markdown",
   "id": "dde480e0",
   "metadata": {},
   "source": [
    "#### Replace negative Value"
   ]
  },
  {
   "cell_type": "code",
   "execution_count": 42,
   "id": "5c01afcd",
   "metadata": {},
   "outputs": [],
   "source": [
    "df['accountAgeDays']=np.where(df['accountAgeDays']<5,df['accountAgeDays'].mean(),df['accountAgeDays'])\n",
    "accountAgeDays_mean=df['accountAgeDays'].mean()\n",
    "accountAgeDays_sd=df['accountAgeDays'].std()\n",
    "\n",
    "lowerBound=accountAgeDays_mean-(3*accountAgeDays_sd)\n",
    "upperBound=accountAgeDays_mean+(3*accountAgeDays_sd)"
   ]
  },
  {
   "cell_type": "markdown",
   "id": "bf19df39",
   "metadata": {},
   "source": [
    "#### Remove accountAgeDays is too high or to low"
   ]
  },
  {
   "cell_type": "code",
   "execution_count": 43,
   "id": "7c575b7c",
   "metadata": {},
   "outputs": [],
   "source": [
    "df=df[(df['accountAgeDays']>lowerBound)&(df['accountAgeDays']<=upperBound)]"
   ]
  },
  {
   "cell_type": "markdown",
   "id": "3395cf00",
   "metadata": {},
   "source": [
    "#### Save the clean Data"
   ]
  },
  {
   "cell_type": "code",
   "execution_count": 44,
   "id": "e4a3efb1",
   "metadata": {},
   "outputs": [],
   "source": [
    "df.to_csv(\"cleanData.csv\",index=False)"
   ]
  },
  {
   "cell_type": "code",
   "execution_count": 33,
   "id": "8e1419ab",
   "metadata": {},
   "outputs": [
    {
     "name": "stdout",
     "output_type": "stream",
     "text": [
      "accountAgeDays          2\n",
      "numItems                0\n",
      "localTime               0\n",
      "paymentMethod           1\n",
      "paymentMethodAgeDays    1\n",
      "Category                0\n",
      "isWeekend               1\n",
      "label                   0\n",
      "dtype: int64\n",
      "   accountAgeDays  numItems  localTime paymentMethod  paymentMethodAgeDays  \\\n",
      "0            29.0         1   4.745402        paypal             28.204861   \n",
      "1           725.0         1   4.742303   storecredit                   NaN   \n",
      "2           845.0         1   4.921318    creditcard              0.000000   \n",
      "3           503.0         1   4.886641    creditcard              0.000000   \n",
      "4          2000.0         1   5.040929    creditcard              0.000000   \n",
      "\n",
      "      Category  isWeekend  label  \n",
      "0     shopping        0.0      0  \n",
      "1  electronics        0.0      0  \n",
      "2         food        1.0      0  \n",
      "3  electronics        1.0      0  \n",
      "4     shopping        0.0      0  \n"
     ]
    }
   ],
   "source": [
    "print(df.isnull().sum())\n",
    "print(df.head())"
   ]
  }
 ],
 "metadata": {
  "kernelspec": {
   "display_name": "pylib",
   "language": "python",
   "name": "python3"
  },
  "language_info": {
   "codemirror_mode": {
    "name": "ipython",
    "version": 3
   },
   "file_extension": ".py",
   "mimetype": "text/x-python",
   "name": "python",
   "nbconvert_exporter": "python",
   "pygments_lexer": "ipython3",
   "version": "3.11.13"
  }
 },
 "nbformat": 4,
 "nbformat_minor": 5
}
