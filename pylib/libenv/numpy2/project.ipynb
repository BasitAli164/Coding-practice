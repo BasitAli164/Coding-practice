{
 "cells": [
  {
   "cell_type": "markdown",
   "id": "fa2c5f87",
   "metadata": {},
   "source": [
    "# Project\n"
   ]
  },
  {
   "cell_type": "markdown",
   "id": "816d3490",
   "metadata": {},
   "source": [
    "#### Import libraries "
   ]
  },
  {
   "cell_type": "code",
   "execution_count": null,
   "id": "d9e2b484",
   "metadata": {},
   "outputs": [],
   "source": [
    "import numpy as np;\n",
    "import pandas as pd;"
   ]
  },
  {
   "cell_type": "markdown",
   "id": "ede9599a",
   "metadata": {},
   "source": [
    "#### Loading the Dataset"
   ]
  },
  {
   "cell_type": "code",
   "execution_count": 8,
   "id": "2bec2281",
   "metadata": {},
   "outputs": [],
   "source": [
    "df=pd.read_csv('payment_fraud1.csv')\n"
   ]
  },
  {
   "cell_type": "markdown",
   "id": "5df6e9d6",
   "metadata": {},
   "source": [
    "#### Checking the missing Value"
   ]
  },
  {
   "cell_type": "code",
   "execution_count": 9,
   "id": "7d3a19e3",
   "metadata": {},
   "outputs": [
    {
     "name": "stdout",
     "output_type": "stream",
     "text": [
      "Missing Value in each Value\n",
      "accountAgeDays          2\n",
      "numItems                0\n",
      "localTime               0\n",
      "paymentMethod           1\n",
      "paymentMethodAgeDays    1\n",
      "Category                0\n",
      "isWeekend               1\n",
      "label                   0\n",
      "dtype: int64\n"
     ]
    }
   ],
   "source": [
    "print(\"Missing Value in each Value\")\n",
    "print(df.isnull().sum())"
   ]
  },
  {
   "cell_type": "code",
   "execution_count": null,
   "id": "9eb8dde4",
   "metadata": {},
   "outputs": [
    {
     "name": "stderr",
     "output_type": "stream",
     "text": [
      "C:\\Users\\aaa\\AppData\\Local\\Temp\\ipykernel_9660\\1620962084.py:1: FutureWarning: A value is trying to be set on a copy of a DataFrame or Series through chained assignment using an inplace method.\n",
      "The behavior will change in pandas 3.0. This inplace method will never work because the intermediate object on which we are setting values always behaves as a copy.\n",
      "\n",
      "For example, when doing 'df[col].method(value, inplace=True)', try using 'df.method({col: value}, inplace=True)' or df[col] = df[col].method(value) instead, to perform the operation inplace on the original object.\n",
      "\n",
      "\n",
      "  df['accountAgeDays'].fillna(df['accountAgeDays'].mean(),inplace=True)\n",
      "C:\\Users\\aaa\\AppData\\Local\\Temp\\ipykernel_9660\\1620962084.py:2: FutureWarning: A value is trying to be set on a copy of a DataFrame or Series through chained assignment using an inplace method.\n",
      "The behavior will change in pandas 3.0. This inplace method will never work because the intermediate object on which we are setting values always behaves as a copy.\n",
      "\n",
      "For example, when doing 'df[col].method(value, inplace=True)', try using 'df.method({col: value}, inplace=True)' or df[col] = df[col].method(value) instead, to perform the operation inplace on the original object.\n",
      "\n",
      "\n",
      "  df['isWeekend'].fillna(df['isWeekend'].mode(),inplace=True)\n",
      "C:\\Users\\aaa\\AppData\\Local\\Temp\\ipykernel_9660\\1620962084.py:3: FutureWarning: A value is trying to be set on a copy of a DataFrame or Series through chained assignment using an inplace method.\n",
      "The behavior will change in pandas 3.0. This inplace method will never work because the intermediate object on which we are setting values always behaves as a copy.\n",
      "\n",
      "For example, when doing 'df[col].method(value, inplace=True)', try using 'df.method({col: value}, inplace=True)' or df[col] = df[col].method(value) instead, to perform the operation inplace on the original object.\n",
      "\n",
      "\n",
      "  df['paymentMethodAgeDays'].fillna(df['paymentMethodAgeDays'].median(),inplace=True)\n"
     ]
    }
   ],
   "source": [
    "df['accountAgeDays'].fillna(df['accountAgeDays'].mean(),inplace=True)\n",
    "df['isWeekend'].fillna(df['isWeekend'].mean(),inplace=True)\n",
    "df['paymentMethodAgeDays'].fillna(df['paymentMethodAgeDays'].median(),inplace=True)"
   ]
  },
  {
   "cell_type": "code",
   "execution_count": 11,
   "id": "8e1419ab",
   "metadata": {},
   "outputs": [
    {
     "name": "stdout",
     "output_type": "stream",
     "text": [
      "accountAgeDays          0\n",
      "numItems                0\n",
      "localTime               0\n",
      "paymentMethod           1\n",
      "paymentMethodAgeDays    0\n",
      "Category                0\n",
      "isWeekend               1\n",
      "label                   0\n",
      "dtype: int64\n"
     ]
    }
   ],
   "source": [
    "print(df.isnull().sum())"
   ]
  }
 ],
 "metadata": {
  "kernelspec": {
   "display_name": "pylib",
   "language": "python",
   "name": "python3"
  },
  "language_info": {
   "codemirror_mode": {
    "name": "ipython",
    "version": 3
   },
   "file_extension": ".py",
   "mimetype": "text/x-python",
   "name": "python",
   "nbconvert_exporter": "python",
   "pygments_lexer": "ipython3",
   "version": "3.11.13"
  }
 },
 "nbformat": 4,
 "nbformat_minor": 5
}
