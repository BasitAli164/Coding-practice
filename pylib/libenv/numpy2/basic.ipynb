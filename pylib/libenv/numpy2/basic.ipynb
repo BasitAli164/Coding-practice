{
 "cells": [
  {
   "cell_type": "markdown",
   "id": "57d64098",
   "metadata": {},
   "source": [
    "# Basic Properties and Method of the numpy Array"
   ]
  },
  {
   "cell_type": "code",
   "execution_count": null,
   "id": "0657493e",
   "metadata": {},
   "outputs": [
    {
     "name": "stdout",
     "output_type": "stream",
     "text": [
      "Data type of arr: int64\n",
      "Change the data type of the above array is:  [1. 2. 3.]\n",
      "Data type of arr: float64\n",
      "Data type of arr: int64\n",
      "dimension of arr: 1\n",
      "Size of Array:  3\n",
      "Shpa of Array is:  (3,)\n"
     ]
    }
   ],
   "source": [
    "import numpy as np;\n",
    "\n",
    "arr=np.array([1,2,3])\n",
    "print(\"Data type of arr:\",arr.dtype)\n",
    "changType=arr.astype(float) # does not change the original dtype\n",
    "print(\"Change the data type of the above array is: \",changType)\n",
    "print(\"Data type of arr:\",changType.dtype)\n",
    "print(\"Data type of arr:\",arr.dtype)\n",
    "print(\"dimension of arr:\",arr.ndim)\n",
    "print(\"Size of Array: \",arr.size)\n",
    "print(\"Shpa of Array is: \",arr.shape)\n",
    "\n"
   ]
  }
 ],
 "metadata": {
  "kernelspec": {
   "display_name": "pylib",
   "language": "python",
   "name": "python3"
  },
  "language_info": {
   "codemirror_mode": {
    "name": "ipython",
    "version": 3
   },
   "file_extension": ".py",
   "mimetype": "text/x-python",
   "name": "python",
   "nbconvert_exporter": "python",
   "pygments_lexer": "ipython3",
   "version": "3.11.13"
  }
 },
 "nbformat": 4,
 "nbformat_minor": 5
}
