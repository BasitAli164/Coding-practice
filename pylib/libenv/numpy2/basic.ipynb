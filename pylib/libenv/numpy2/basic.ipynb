{
 "cells": [
  {
   "cell_type": "markdown",
   "id": "57d64098",
   "metadata": {},
   "source": [
    "# Basic Properties and Method of the numpy Array"
   ]
  },
  {
   "cell_type": "code",
   "execution_count": 11,
   "id": "0657493e",
   "metadata": {},
   "outputs": [
    {
     "name": "stdout",
     "output_type": "stream",
     "text": [
      "Data type of arr: int64\n",
      "Change the data type of the above array is:  [1. 2. 3.]\n",
      "Data type of arr: float64\n",
      "Data type of arr: int64\n",
      "dimension of arr: 1\n",
      "Size of Array:  3\n",
      "Shpa of Array is:  (3,)\n",
      "Mean of Array is:  2.0\n",
      "Standard Deviation of Array is:  0.816496580927726\n",
      "Variance of Array is:  0.6666666666666666\n"
     ]
    }
   ],
   "source": [
    "import numpy as np;\n",
    "\n",
    "arr=np.array([1,2,3])\n",
    "print(\"Data type of arr:\",arr.dtype)\n",
    "changType=arr.astype(float) # does not change the original dtype\n",
    "print(\"Change the data type of the above array is: \",changType)\n",
    "print(\"Data type of arr:\",changType.dtype)\n",
    "print(\"Data type of arr:\",arr.dtype)\n",
    "print(\"dimension of arr:\",arr.ndim)\n",
    "print(\"Size of Array: \",arr.size)\n",
    "print(\"Shpa of Array is: \",arr.shape)\n",
    "print(\"Mean of Array is: \",np.mean(arr))\n",
    "print(\"Standard Deviation of Array is: \",np.std(arr))\n",
    "print(\"Variance of Array is: \",np.var(arr))\n",
    "\n"
   ]
  },
  {
   "cell_type": "markdown",
   "id": "83d80d99",
   "metadata": {},
   "source": [
    "# Manipulation in array"
   ]
  },
  {
   "cell_type": "code",
   "execution_count": 25,
   "id": "3f5e8459",
   "metadata": {},
   "outputs": [
    {
     "name": "stdout",
     "output_type": "stream",
     "text": [
      "Array is:  [1 2 3 4 5]\n",
      "Array with newly inserted array: [ 1  2 50  3  4  5]\n",
      "2D Array is:[[1 2 3]\n",
      " [4 5 6]\n",
      " [7 8 9]]\n",
      "Array with newly added or inserted Ele [[ 1  2  3]\n",
      " [50 50 50]\n",
      " [ 4  5  6]\n",
      " [ 7  8  9]]\n",
      "Array with newly added or inserted Ele [[ 1 50  2  3]\n",
      " [ 4 50  5  6]\n",
      " [ 7 50  8  9]]\n",
      "Array with newly added or inserted Ele [[ 1 11  2  3]\n",
      " [ 4 22  5  6]\n",
      " [ 7 33  8  9]]\n",
      "Array with newly added or inserted Ele [[  1   2   3]\n",
      " [110  90  33]\n",
      " [  4   5   6]\n",
      " [  7   8   9]]\n"
     ]
    }
   ],
   "source": [
    "# how to insert new element in vector or 1D arry\n",
    "arr_1D=np.array([1,2,3,4,5])\n",
    "print(\"Array is: \",arr_1D)\n",
    "insertNewEle=np.insert(arr_1D,2,50) # .insert(array,index, newEle) \n",
    "print(\"Array with newly inserted array:\",insertNewEle)\n",
    "\n",
    "# How to insert new row or column in matrix or 2D array\n",
    "arr_2D=np.arange(1,10).reshape(3,3)\n",
    "print(f\"2D Array is:{arr_2D}\")\n",
    "insertNewEleIn2D=np.insert(arr_2D,1,50,axis=0) # .insert(array,index,newEle,axix=1/0)\n",
    "print(\"Array with newly added or inserted Ele\",insertNewEleIn2D)\n",
    "insertEleIn2D=np.insert(arr_2D,1,50,axis=1)\n",
    "print(\"Array with newly added or inserted Ele\",insertEleIn2D)\n",
    "insertEleInMatrix=np.insert(arr_2D,1,[11,22,33],axis=1)\n",
    "print(\"Array with newly added or inserted Ele\",insertEleInMatrix)\n",
    "insertEleInMatrixCol=np.insert(arr_2D,1,[110,90,33],axis=0)\n",
    "print(\"Array with newly added or inserted Ele\",insertEleInMatrixCol)"
   ]
  }
 ],
 "metadata": {
  "kernelspec": {
   "display_name": "pylib",
   "language": "python",
   "name": "python3"
  },
  "language_info": {
   "codemirror_mode": {
    "name": "ipython",
    "version": 3
   },
   "file_extension": ".py",
   "mimetype": "text/x-python",
   "name": "python",
   "nbconvert_exporter": "python",
   "pygments_lexer": "ipython3",
   "version": "3.11.13"
  }
 },
 "nbformat": 4,
 "nbformat_minor": 5
}
