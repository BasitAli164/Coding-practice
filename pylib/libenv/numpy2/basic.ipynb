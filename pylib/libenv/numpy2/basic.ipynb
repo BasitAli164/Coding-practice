{
 "cells": [
  {
   "cell_type": "markdown",
   "id": "57d64098",
   "metadata": {},
   "source": [
    "# Basic Properties and Method of the numpy Array"
   ]
  },
  {
   "cell_type": "code",
   "execution_count": null,
   "id": "0657493e",
   "metadata": {},
   "outputs": [],
   "source": [
    "import numpy as np;\n",
    "\n",
    "arr=np.array([1,2,3])\n",
    "print(\"Data type of arr:\",arr.dtype)\n",
    "changType=arr.astype(float) # does not change the original dtype\n",
    "print(\"Change the data type of the above array is: \",changType)\n",
    "print(\"Data type of arr:\",changType.dtype)\n",
    "print(\"Data type of arr:\",arr.dtype)\n",
    "print(\"dimension of arr:\",arr.ndim)\n",
    "print(\"Size of Array: \",arr.size)\n",
    "print(\"Shpa of Array is: \",arr.shape)\n",
    "print(\"Mean of Array is: \",np.mean(arr))\n",
    "print(\"Standard Deviation of Array is: \",np.std(arr))\n",
    "print(\"Variance of Array is: \",np.var(arr))\n",
    "\n"
   ]
  },
  {
   "cell_type": "markdown",
   "id": "83d80d99",
   "metadata": {},
   "source": [
    "# Manipulation in array"
   ]
  },
  {
   "cell_type": "markdown",
   "id": "77bf9a6d",
   "metadata": {},
   "source": [
    "### Insert Method in Numpy"
   ]
  },
  {
   "cell_type": "code",
   "execution_count": null,
   "id": "3f5e8459",
   "metadata": {},
   "outputs": [],
   "source": [
    "# how to insert new element in vector or 1D arry\n",
    "arr_1D=np.array([1,2,3,4,5])\n",
    "print(\"Array is: \",arr_1D)\n",
    "insertNewEle=np.insert(arr_1D,2,50) # .insert(array,index, newEle) \n",
    "print(\"Array with newly inserted array:\",insertNewEle)\n",
    "\n",
    "# How to insert new row or column in matrix or 2D array\n",
    "arr_2D=np.arange(1,10).reshape(3,3)\n",
    "print(f\"2D Array is:{arr_2D}\")\n",
    "insertNewEleIn2D=np.insert(arr_2D,1,50,axis=0) # .insert(array,index,newEle,axix=1/0)\n",
    "print(\"Array with newly added or inserted Ele\",insertNewEleIn2D)\n",
    "insertEleIn2D=np.insert(arr_2D,1,50,axis=1)\n",
    "print(\"Array with newly added or inserted Ele\",insertEleIn2D)\n",
    "insertEleInMatrix=np.insert(arr_2D,1,[11,22,33],axis=1)\n",
    "print(\"Array with newly added or inserted Ele\",insertEleInMatrix)\n",
    "insertEleInMatrixCol=np.insert(arr_2D,1,[110,90,33],axis=0)\n",
    "print(\"Array with newly added or inserted Ele\",insertEleInMatrixCol)"
   ]
  },
  {
   "cell_type": "markdown",
   "id": "947c6631",
   "metadata": {},
   "source": [
    "### Append method in Numpy"
   ]
  },
  {
   "cell_type": "code",
   "execution_count": null,
   "id": "da4596be",
   "metadata": {},
   "outputs": [
    {
     "name": "stdout",
     "output_type": "stream",
     "text": [
      "Vector is:  [1 2 3 4 5 6 7 8 9]\n",
      "Array with new value [ 1  2  3  4  5  6  7  8  9 12]\n",
      "Array with new value [ 1  2  3  4  5  6  7  8  9 78 46 39 29]\n",
      "Matrix is: [[1 2 3]\n",
      " [4 5 6]\n",
      " [7 8 9]]\n"
     ]
    },
    {
     "ename": "ValueError",
     "evalue": "all the input arrays must have same number of dimensions, but the array at index 0 has 2 dimension(s) and the array at index 1 has 0 dimension(s)",
     "output_type": "error",
     "traceback": [
      "\u001b[31m---------------------------------------------------------------------------\u001b[39m",
      "\u001b[31mValueError\u001b[39m                                Traceback (most recent call last)",
      "\u001b[36mCell\u001b[39m\u001b[36m \u001b[39m\u001b[32mIn[32]\u001b[39m\u001b[32m, line 18\u001b[39m\n\u001b[32m     14\u001b[39m matrix=np.arange(\u001b[32m1\u001b[39m,\u001b[32m10\u001b[39m).reshape(\u001b[32m3\u001b[39m,\u001b[32m3\u001b[39m)\n\u001b[32m     15\u001b[39m \u001b[38;5;28mprint\u001b[39m(\u001b[33m\"\u001b[39m\u001b[33mMatrix is:\u001b[39m\u001b[33m\"\u001b[39m,matrix)\n\u001b[32m---> \u001b[39m\u001b[32m18\u001b[39m appendNew2=\u001b[43mnp\u001b[49m\u001b[43m.\u001b[49m\u001b[43mappend\u001b[49m\u001b[43m(\u001b[49m\u001b[43mmatrix\u001b[49m\u001b[43m[\u001b[49m\u001b[43m:\u001b[49m\u001b[43m]\u001b[49m\u001b[43m,\u001b[49m\u001b[32;43m40\u001b[39;49m\u001b[43m,\u001b[49m\u001b[43maxis\u001b[49m\u001b[43m=\u001b[49m\u001b[32;43m0\u001b[39;49m\u001b[43m)\u001b[49m\n\u001b[32m     19\u001b[39m \u001b[38;5;28mprint\u001b[39m(\u001b[33m\"\u001b[39m\u001b[33mArray with new value\u001b[39m\u001b[33m\"\u001b[39m,appendNew2)\n",
      "\u001b[36mFile \u001b[39m\u001b[32mc:\\Users\\aaa\\miniconda3\\envs\\pylib\\Lib\\site-packages\\numpy\\lib\\_function_base_impl.py:5821\u001b[39m, in \u001b[36mappend\u001b[39m\u001b[34m(arr, values, axis)\u001b[39m\n\u001b[32m   5819\u001b[39m     values = ravel(values)\n\u001b[32m   5820\u001b[39m     axis = arr.ndim-\u001b[32m1\u001b[39m\n\u001b[32m-> \u001b[39m\u001b[32m5821\u001b[39m \u001b[38;5;28;01mreturn\u001b[39;00m \u001b[43mconcatenate\u001b[49m\u001b[43m(\u001b[49m\u001b[43m(\u001b[49m\u001b[43marr\u001b[49m\u001b[43m,\u001b[49m\u001b[43m \u001b[49m\u001b[43mvalues\u001b[49m\u001b[43m)\u001b[49m\u001b[43m,\u001b[49m\u001b[43m \u001b[49m\u001b[43maxis\u001b[49m\u001b[43m=\u001b[49m\u001b[43maxis\u001b[49m\u001b[43m)\u001b[49m\n",
      "\u001b[31mValueError\u001b[39m: all the input arrays must have same number of dimensions, but the array at index 0 has 2 dimension(s) and the array at index 1 has 0 dimension(s)"
     ]
    }
   ],
   "source": [
    "# Append with 1D array\n",
    "vector=np.arange(1,10)\n",
    "print(\"Vector is: \",vector)\n",
    "\n",
    "appendNew=np.append(vector,12)\n",
    "print(\"Array with new value\",appendNew)\n",
    "\n",
    "appendNew1=np.append(vector,[78,46,39,29])\n",
    "print(\"Array with new value\",appendNew1)\n",
    "\n",
    "\n",
    "\n",
    "\n"
   ]
  }
 ],
 "metadata": {
  "kernelspec": {
   "display_name": "pylib",
   "language": "python",
   "name": "python3"
  },
  "language_info": {
   "codemirror_mode": {
    "name": "ipython",
    "version": 3
   },
   "file_extension": ".py",
   "mimetype": "text/x-python",
   "name": "python",
   "nbconvert_exporter": "python",
   "pygments_lexer": "ipython3",
   "version": "3.11.13"
  }
 },
 "nbformat": 4,
 "nbformat_minor": 5
}
