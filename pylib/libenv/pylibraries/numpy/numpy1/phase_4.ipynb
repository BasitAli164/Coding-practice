{
 "cells": [
  {
   "cell_type": "code",
   "execution_count": 1,
   "id": "ab7dba9d",
   "metadata": {},
   "outputs": [],
   "source": [
    "import numpy as np;"
   ]
  },
  {
   "cell_type": "code",
   "execution_count": 2,
   "id": "9c7265c3",
   "metadata": {},
   "outputs": [],
   "source": [
    "arr1=np.array([[1,2,3],[4,5,6]])\n",
    "arr2=np.random.rand(3,3)\n",
    "arr3=np.zeros((4,4))"
   ]
  },
  {
   "cell_type": "markdown",
   "id": "48081a59",
   "metadata": {},
   "source": [
    "## Save in local Disk not in RAM"
   ]
  },
  {
   "cell_type": "code",
   "execution_count": 3,
   "id": "def50c71",
   "metadata": {},
   "outputs": [],
   "source": [
    "np.save(\"arr1.npy\",arr1)\n",
    "np.save(\"arr2.npy\",arr2)\n",
    "np.save(\"arr3.npy\",arr3)"
   ]
  },
  {
   "cell_type": "markdown",
   "id": "a5a47562",
   "metadata": {},
   "source": [
    "### Loading Save Array"
   ]
  },
  {
   "cell_type": "code",
   "execution_count": 4,
   "id": "6428ef43",
   "metadata": {},
   "outputs": [
    {
     "name": "stdout",
     "output_type": "stream",
     "text": [
      "Loaded Array-1 is:  [[1 2 3]\n",
      " [4 5 6]]\n",
      "Loaded Array-2 is:  [[0.41 0.17 0.63]\n",
      " [0.26 0.51 0.88]\n",
      " [0.4  0.5  0.43]]\n",
      "Loaded Array-3 is:  [[0. 0. 0. 0.]\n",
      " [0. 0. 0. 0.]\n",
      " [0. 0. 0. 0.]\n",
      " [0. 0. 0. 0.]]\n"
     ]
    }
   ],
   "source": [
    "load_arr1=np.load('arr1.npy')\n",
    "load_arr2=np.load('arr2.npy')\n",
    "load_arr3=np.load('arr3.npy')\n",
    "print(\"Loaded Array-1 is: \",load_arr1)\n",
    "print(\"Loaded Array-2 is: \",load_arr2.round(2))\n",
    "print(\"Loaded Array-3 is: \",load_arr3)"
   ]
  }
 ],
 "metadata": {
  "kernelspec": {
   "display_name": "pylib",
   "language": "python",
   "name": "python3"
  },
  "language_info": {
   "codemirror_mode": {
    "name": "ipython",
    "version": 3
   },
   "file_extension": ".py",
   "mimetype": "text/x-python",
   "name": "python",
   "nbconvert_exporter": "python",
   "pygments_lexer": "ipython3",
   "version": "3.11.13"
  }
 },
 "nbformat": 4,
 "nbformat_minor": 5
}
