{
 "cells": [
  {
   "cell_type": "markdown",
   "id": "a806f341",
   "metadata": {},
   "source": [
    "# Numpy Array Operation"
   ]
  },
  {
   "cell_type": "code",
   "execution_count": 1,
   "id": "8156fb5d",
   "metadata": {},
   "outputs": [],
   "source": [
    "import numpy as np; # import numpy library and set alias"
   ]
  },
  {
   "cell_type": "markdown",
   "id": "067591d3",
   "metadata": {},
   "source": [
    "### Inexing and Slicing"
   ]
  },
  {
   "cell_type": "code",
   "execution_count": 2,
   "id": "4b0e2007",
   "metadata": {},
   "outputs": [
    {
     "name": "stdout",
     "output_type": "stream",
     "text": [
      "Array is: [ 0  2  4  6  8 10 12 14 16 18 20 22 24 26 28 30 32 34 36 38]\n",
      "Basic Slicing: [ 4  6  8 10 12 14]\n",
      "Basic Slicing with Steps: [ 4  8 12 16 20]\n",
      "Specific Element:8\n",
      "Negtive Indexing: 30\n"
     ]
    }
   ],
   "source": [
    "# For 1D array\n",
    "np_1Darr=np.arange(0,40,2) # create an 1D array using arange method\n",
    "print(f\"Array is: {np_1Darr}\") # print the np_arr\n",
    "print(f\"Basic Slicing: {np_1Darr[2:8]}\") # here use slicing where [starting Index:Ending Index]\n",
    "print(f\"Basic Slicing with Steps: {np_1Darr[2:12:2]}\") # here also use slicing with steps where [Starting index:EndingIndex: Steps(skip how many value)]\n",
    "print(f\"Specific Element:{np_1Darr[4]}\")\n",
    "print(f\"Negtive Indexing: {np_1Darr[-5]}\")# Return the value which are lies on index 5 from right side\n"
   ]
  },
  {
   "cell_type": "code",
   "execution_count": 3,
   "id": "bfcfd1fc",
   "metadata": {},
   "outputs": [
    {
     "name": "stdout",
     "output_type": "stream",
     "text": [
      "Marix is: [[1 2 3]\n",
      " [4 5 6]\n",
      " [7 8 9]]\n",
      "Specific Element:7\n",
      "Entire Row: [4 5 6]\n",
      "Entire Column: [2 5 8]\n"
     ]
    }
   ],
   "source": [
    "#For 2D array\n",
    "np_2D_arr=np.array([[1,2,3],[4,5,6],[7,8,9]]) # Create a matrix \n",
    "print(f\"Marix is: {np_2D_arr}\") # print matrix\n",
    "print(f\"Specific Element:{np_2D_arr[2,0]}\") # Get a specific element from matrix where [row,column]\n",
    "print(f\"Entire Row: {np_2D_arr[1]}\") # Get an entire row \n",
    "print(f\"Entire Column: {np_2D_arr[:,1]}\")# Get an entire column\n"
   ]
  },
  {
   "cell_type": "markdown",
   "id": "75f40dfd",
   "metadata": {},
   "source": [
    "### Sorting"
   ]
  },
  {
   "cell_type": "code",
   "execution_count": null,
   "id": "3a1563a5",
   "metadata": {},
   "outputs": [],
   "source": [
    "# For 1D Array or Vector\n",
    "unsortedArray=np.array([2,5,-1,0,53,2,7,3,9,34,6,9]) # Vector or 1-D Array\n",
    "print(f\"Unsorted Array:{unsortedArray}\") # print Un_Sorted Array\n",
    "print(f\"Sorted Array:{np.sort(unsortedArray)}\") # Print the sorted array using sort build function \n",
    "\n"
   ]
  },
  {
   "cell_type": "code",
   "execution_count": null,
   "id": "8776084f",
   "metadata": {},
   "outputs": [],
   "source": [
    "# For 2D Array or Matrix\n",
    "unsorted_2D_arr=np.array([[1,4],[3,2],[5,3]]) # Matrix or 2D array\n",
    "print(\"Unsorted 2D Array: \",unsorted_2D_arr) # print Unsorted array\n",
    "print(f\"Sorted 2D Array in Column wise: {np.sort(unsorted_2D_arr,axis=0)}\") # sort column wise because axis=0 is represent column sort\n",
    "print(f\"Sorted 2D Array in Row wise: {np.sort(unsorted_2D_arr,axis=1)}\") # sort row wise becasue axis-1 is represent row sort\n"
   ]
  },
  {
   "cell_type": "markdown",
   "id": "1baffc53",
   "metadata": {},
   "source": [
    "### Filter"
   ]
  },
  {
   "cell_type": "code",
   "execution_count": 4,
   "id": "395d8a91",
   "metadata": {},
   "outputs": [
    {
     "name": "stdout",
     "output_type": "stream",
     "text": [
      "Array is: [ 1  2  3  4  5  6  7  8  9 10]\n",
      "Filter the Odd number by expression is:  [1 3 5 7 9]\n",
      "Filter Array by mask is:[ 9 10] \n",
      "Filter by indices: [ 4  7 10]\n",
      "Where result:  (array([0, 1, 2, 3]),)\n",
      "Filter by where is: [1 2 3 4]\n",
      "Condition Array is:  [ 1  2  3  4  5 18 21 24 27 30]\n"
     ]
    }
   ],
   "source": [
    "np_arr_filter=np.arange(1,11)\n",
    "print(f\"Array is: {np_arr_filter}\")\n",
    "oddNum=np_arr_filter[np_arr_filter%2==1]\n",
    "print(\"Filter the Odd number by expression is: \",oddNum)\n",
    "\n",
    "# Filter with mask\n",
    "\n",
    "\n",
    "mask=np_arr_filter>8 # mask have the whole formula or expression which help to filter\n",
    "print(f\"Filter Array by mask is:{np_arr_filter[mask]} \")\n",
    "\n",
    "\n",
    "# Fancy Indexing \n",
    "indices=[3,6,9]\n",
    "print(\"Filter by indices:\",np_arr_filter[indices])\n",
    "\n",
    "#np.where()\n",
    "where_result=np.where(np_arr_filter<5)\n",
    "print(\"Where result: \",where_result)\n",
    "print(\"Filter by where is:\",np_arr_filter[where_result])\n",
    "\n",
    "\n",
    "# conditional with where\n",
    "condition_array=np.where(np_arr_filter>5,np_arr_filter*3,np_arr_filter)# here we apply tarnary operator of short if-else statement\n",
    "print(\"Condition Array is: \",condition_array)\n"
   ]
  },
  {
   "cell_type": "markdown",
   "id": "dd46ab89",
   "metadata": {},
   "source": [
    "## Adding and Removing Data"
   ]
  },
  {
   "cell_type": "code",
   "execution_count": 5,
   "id": "9a5abec6",
   "metadata": {},
   "outputs": [
    {
     "name": "stdout",
     "output_type": "stream",
     "text": [
      "Array_1: [1 2 3] and Array_2: [4 5 6]\n",
      "Merge Array is: [1 2 3 4 5 6]\n",
      "Merge Array-1 is: [1 2 3 4 5 6 7 8 9]\n",
      "Array Compatibility shapes: True\n"
     ]
    }
   ],
   "source": [
    "arr1=np.array([1,2,3])\n",
    "arr2=np.arange(4,7)\n",
    "arr3=np.array([7,8,9])\n",
    "print(f\"Array_1: {arr1} and Array_2: {arr2}\")\n",
    "\n",
    "# merege both arr 1 and 2\n",
    "mergeArray=np.concat([arr1,arr2]) # concat or concatination both are same both are work for merge like spread operator in javascript\n",
    "mergeArray1=np.concatenate([arr1,arr2,arr3])\n",
    "print(f\"Merge Array is: {mergeArray}\")\n",
    "print(f\"Merge Array-1 is: {mergeArray1}\")\n",
    "\n",
    "print(\"Array Compatibility shapes:\",arr1.shape==arr2.shape==arr3.shape) # here we check the lenght are same or not for any operation using shap method like if add 3 matrix then there must be same number of rows and column "
   ]
  },
  {
   "cell_type": "markdown",
   "id": "17456964",
   "metadata": {},
   "source": [
    "#### Add new rows and column in a matrix"
   ]
  },
  {
   "cell_type": "code",
   "execution_count": 6,
   "id": "de834886",
   "metadata": {},
   "outputs": [
    {
     "name": "stdout",
     "output_type": "stream",
     "text": [
      "2D array:  [[1 2]\n",
      " [3 4]]\n",
      "New Array with new row:[[7 8]\n",
      " [1 2]\n",
      " [3 4]]\n",
      "New Array with new row:[[1 2]\n",
      " [3 4]\n",
      " [7 8]]\n"
     ]
    }
   ],
   "source": [
    "# add new rows with the help of vstack\n",
    "towDArray=np.array([[1,2],[3,4]])\n",
    "print(\"2D array: \",towDArray)\n",
    "\n",
    "new_row=np.array([7,8])\n",
    "new_row1=np.array([12.34])\n",
    "\n",
    "with_new_Row=np.vstack((new_row,towDArray)) # vstack add new rows in exiting matrix if add new row at begining then comes begining and at last then we see new array at last  like\n",
    "with_new_Row1=np.vstack((towDArray,new_row)) \n",
    "\n",
    "print(f\"New Array with new row:{with_new_Row}\")\n",
    "print(f\"New Array with new row:{with_new_Row1}\")"
   ]
  },
  {
   "cell_type": "code",
   "execution_count": 7,
   "id": "47ee3dc6",
   "metadata": {},
   "outputs": [
    {
     "name": "stdout",
     "output_type": "stream",
     "text": [
      "With new col:[[ 12   1  80  90]\n",
      " [ 45   5 900 890]]\n"
     ]
    }
   ],
   "source": [
    "# add new column with the help of hstack\n",
    "\n",
    "towDArray1=np.array([[12,1],[45,5]])\n",
    "new_col=np.array([[80,90],[900,890]])\n",
    "\n",
    "with_new_Row1=np.vstack((new_col,towDArray1))\n",
    "with_new_col=np.hstack((towDArray1,new_col))\n",
    "print(f\"With new col:{with_new_col}\")\n",
    "# print(f\"With new row:{with_new_Row1}\")"
   ]
  },
  {
   "cell_type": "markdown",
   "id": "41607fde",
   "metadata": {},
   "source": [
    "### Removing Operation or Deleting Operaion in numpy"
   ]
  },
  {
   "cell_type": "code",
   "execution_count": null,
   "id": "41e35fde",
   "metadata": {},
   "outputs": [
    {
     "name": "stdout",
     "output_type": "stream",
     "text": [
      "Array:  [1 2 3 4 5 6 7 8 9]\n",
      "Deleted Element:  [1 2 3 5 6 7 8 9]\n",
      "Array:  [1 2 3 4 5 6 7 8 9]\n"
     ]
    }
   ],
   "source": [
    "arr4=np.arange(1,10)\n",
    "print(\"Array: \",arr4)\n",
    "\n",
    "deleteElement=np.delete(arr4,3) # delete return whole array again remove the particular element which we delete\n",
    "\n",
    "print(\"Deleted Element: \",deleteElement)\n",
    "print(\"Array: \",arr4)"
   ]
  }
 ],
 "metadata": {
  "kernelspec": {
   "display_name": "pylib",
   "language": "python",
   "name": "python3"
  },
  "language_info": {
   "codemirror_mode": {
    "name": "ipython",
    "version": 3
   },
   "file_extension": ".py",
   "mimetype": "text/x-python",
   "name": "python",
   "nbconvert_exporter": "python",
   "pygments_lexer": "ipython3",
   "version": "3.11.13"
  }
 },
 "nbformat": 4,
 "nbformat_minor": 5
}
