{
 "cells": [
  {
   "cell_type": "markdown",
   "id": "5feaa204",
   "metadata": {},
   "source": [
    "# How to Modify the dataset"
   ]
  },
  {
   "cell_type": "markdown",
   "id": "467d4053",
   "metadata": {},
   "source": [
    "## 1. Insert New column in Dataset"
   ]
  },
  {
   "cell_type": "code",
   "execution_count": null,
   "id": "4c5b8486",
   "metadata": {},
   "outputs": [],
   "source": [
    "import pandas as pd;\n",
    "import matplotlib.pyplot as plt"
   ]
  },
  {
   "cell_type": "code",
   "execution_count": null,
   "id": "7ba9e442",
   "metadata": {},
   "outputs": [],
   "source": [
    "data={\n",
    "    \"name\":[\"shahid\",\"basit\",\"zeeshan\",\"kumail\",\"askari\",\"siraj\",\"shukoor\",\"kazim\",\"muhammad\",\"sakina\",\"khatija\",\"kubra\"],\n",
    "    \"age\":[23,24,25,20,11,23,46,78,64,30,26,28],\n",
    "    \"salary\":[3873,9472,2904,2890,4232,3211,2222,4562,1234,3421,1235,7632],\n",
    "    \"performance Score\":[85,23,45,90,14,45,67,78,90,33,66,88],\n",
    "\n",
    "}\n",
    "df=pd.DataFrame(data)\n",
    "\n",
    "df.insert(0,\"Std#\",[10,20,30,40,50,60,70,80,90,100,110,120]) # df.insert(columnIndex,columnName,columnObjectData)\n",
    "print(\"Data Frame is:\\n\",df)"
   ]
  },
  {
   "cell_type": "markdown",
   "id": "b459e3de",
   "metadata": {},
   "source": [
    "# 2. Update any data in dataframe"
   ]
  },
  {
   "cell_type": "code",
   "execution_count": null,
   "id": "c973118e",
   "metadata": {},
   "outputs": [],
   "source": [
    "# update single value from dataset\n",
    "update=df.loc[2,'age']=400\n",
    "print(\"Update data in dataFrame:\\n\",df)"
   ]
  },
  {
   "cell_type": "code",
   "execution_count": null,
   "id": "7af66566",
   "metadata": {},
   "outputs": [],
   "source": [
    "# update how column values in dataset\n",
    "df['salary']=df['salary']*1.5\n",
    "print(\"update whole column:\\n \",df)"
   ]
  },
  {
   "cell_type": "markdown",
   "id": "30f736d3",
   "metadata": {},
   "source": [
    "# Removing Column from dataset"
   ]
  },
  {
   "cell_type": "code",
   "execution_count": null,
   "id": "4808e5f1",
   "metadata": {},
   "outputs": [
    {
     "name": "stdout",
     "output_type": "stream",
     "text": [
      "After removing column: \n",
      "         name  age   salary  performance Score\n",
      "0     shahid   23   5809.5                 85\n",
      "1      basit   24  14208.0                 23\n",
      "2    zeeshan  400   4356.0                 45\n",
      "3     kumail   20   4335.0                 90\n",
      "4     askari   11   6348.0                 14\n",
      "5      siraj   23   4816.5                 45\n",
      "6    shukoor   46   3333.0                 67\n",
      "7      kazim   78   6843.0                 78\n",
      "8   muhammad   64   1851.0                 90\n",
      "9     sakina   30   5131.5                 33\n",
      "10   khatija   26   1852.5                 66\n",
      "11     kubra   28  11448.0                 88\n"
     ]
    }
   ],
   "source": [
    "# remove or drop single column from dataset\n",
    "df.drop(columns=[\"Std#\"],inplace=True)\n",
    "print(\"After removing column: \\n\",df)\n",
    "\n",
    "\n",
    "# remove or drop multiple column from dataset\n",
    "\n",
    "df.drop(columns=[\"age\",\"salary\"])\n",
    "print(\"Drop multiple column\")"
   ]
  }
 ],
 "metadata": {
  "kernelspec": {
   "display_name": "pylib",
   "language": "python",
   "name": "python3"
  },
  "language_info": {
   "codemirror_mode": {
    "name": "ipython",
    "version": 3
   },
   "file_extension": ".py",
   "mimetype": "text/x-python",
   "name": "python",
   "nbconvert_exporter": "python",
   "pygments_lexer": "ipython3",
   "version": "3.11.13"
  }
 },
 "nbformat": 4,
 "nbformat_minor": 5
}
