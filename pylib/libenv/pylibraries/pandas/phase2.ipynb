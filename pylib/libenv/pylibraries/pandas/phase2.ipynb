{
 "cells": [
  {
   "cell_type": "markdown",
   "id": "5feaa204",
   "metadata": {},
   "source": [
    "# How to Modify the dataset"
   ]
  },
  {
   "cell_type": "markdown",
   "id": "467d4053",
   "metadata": {},
   "source": [
    "## 1. Insert New column in Dataset"
   ]
  },
  {
   "cell_type": "code",
   "execution_count": null,
   "id": "4c5b8486",
   "metadata": {},
   "outputs": [],
   "source": [
    "import pandas as pd;\n",
    "import matplotlib.pyplot as plt"
   ]
  },
  {
   "cell_type": "code",
   "execution_count": null,
   "id": "7ba9e442",
   "metadata": {},
   "outputs": [],
   "source": [
    "data={\n",
    "    \"name\":[\"shahid\",\"basit\",\"zeeshan\",\"kumail\",\"askari\",\"siraj\",\"shukoor\",\"kazim\",\"muhammad\",\"sakina\",\"khatija\",\"kubra\"],\n",
    "    \"age\":[23,24,25,20,11,23,46,78,64,30,26,28],\n",
    "    \"salary\":[3873,9472,2904,2890,4232,3211,2222,4562,1234,3421,1235,7632],\n",
    "    \"performance Score\":[85,23,45,90,14,45,67,78,90,33,66,88],\n",
    "\n",
    "}\n",
    "df=pd.DataFrame(data)\n",
    "\n",
    "df.insert(0,\"Std#\",[10,20,30,40,50,60,70,80,90,100,110,120]) # df.insert(columnIndex,columnName,columnObjectData)\n",
    "print(\"Data Frame is:\\n\",df)"
   ]
  },
  {
   "cell_type": "markdown",
   "id": "b459e3de",
   "metadata": {},
   "source": [
    "# 2. Update any data in dataframe"
   ]
  },
  {
   "cell_type": "code",
   "execution_count": null,
   "id": "c973118e",
   "metadata": {},
   "outputs": [],
   "source": [
    "# update single value from dataset\n",
    "update=df.loc[2,'age']=400 # loc update a specific value\n",
    "print(\"Update data in dataFrame:\\n\",df)"
   ]
  },
  {
   "cell_type": "code",
   "execution_count": null,
   "id": "7af66566",
   "metadata": {},
   "outputs": [],
   "source": [
    "# update how column values in dataset\n",
    "df['salary']=df['salary']*1.5\n",
    "print(\"update whole column:\\n \",df)"
   ]
  },
  {
   "cell_type": "markdown",
   "id": "30f736d3",
   "metadata": {},
   "source": [
    "# 3.Removing Column from dataset"
   ]
  },
  {
   "cell_type": "code",
   "execution_count": null,
   "id": "4808e5f1",
   "metadata": {},
   "outputs": [],
   "source": [
    "# remove or drop single column from dataset\n",
    "df.drop(columns=[\"Std#\"],inplace=True)\n",
    "print(\"After removing column: \\n\",df)\n",
    "\n",
    "\n",
    "# remove or drop multiple column from dataset\n",
    "\n",
    "df.drop(columns=[\"age\",\"salary\"])\n",
    "print(\"Drop multiple column\")"
   ]
  },
  {
   "cell_type": "markdown",
   "id": "cc947e8c",
   "metadata": {},
   "source": [
    "# 4. Handling Missing Value"
   ]
  },
  {
   "cell_type": "code",
   "execution_count": null,
   "id": "1aab5e0d",
   "metadata": {},
   "outputs": [
    {
     "name": "stdout",
     "output_type": "stream",
     "text": [
      "Check for null value:\n",
      "      name    age  salary  performance Score\n",
      "0   False  False   False              False\n",
      "1   False  False   False              False\n",
      "2    True  False    True              False\n",
      "3   False  False   False               True\n",
      "4   False   True   False              False\n",
      "5   False  False   False              False\n",
      "6   False  False   False              False\n",
      "7   False  False   False              False\n",
      "8   False  False   False              False\n",
      "9   False  False   False              False\n",
      "10  False  False   False              False\n",
      "11  False  False   False              False\n"
     ]
    }
   ],
   "source": [
    "missingDataSet={\n",
    "    \"name\":[\"shahid\",\"basit\",None,\"kumail\",\"askari\",\"siraj\",\"shukoor\",\"kazim\",\"muhammad\",\"sakina\",\"khatija\",\"kubra\"],\n",
    "    \"age\":[23,24,25,20,None,23,46,78,64,30,26,28],\n",
    "    \"salary\":[3873,9472,None,2890,4232,3211,2222,4562,1234,3421,1235,7632],\n",
    "    \"performance Score\":[85,23,45,None,14,45,67,78,90,33,66,88],\n",
    "\n",
    "}\n",
    "\n",
    "df1=pd.DataFrame(missingDataSet)\n",
    "\n",
    "# print(\"Feature are:\\n\",df1)\n",
    "# print(\"Information about feature:\\n\",df1.info()) # return the information about data or feature\n",
    "print(\"Check for null value:\\n\",df1.isnull()) # return ture if there have any null value\n",
    "\n"
   ]
  }
 ],
 "metadata": {
  "kernelspec": {
   "display_name": "pylib",
   "language": "python",
   "name": "python3"
  },
  "language_info": {
   "codemirror_mode": {
    "name": "ipython",
    "version": 3
   },
   "file_extension": ".py",
   "mimetype": "text/x-python",
   "name": "python",
   "nbconvert_exporter": "python",
   "pygments_lexer": "ipython3",
   "version": "3.11.13"
  }
 },
 "nbformat": 4,
 "nbformat_minor": 5
}
