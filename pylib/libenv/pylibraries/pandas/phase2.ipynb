{
 "cells": [
  {
   "cell_type": "markdown",
   "id": "5feaa204",
   "metadata": {},
   "source": [
    "# How to add new column in dataset"
   ]
  },
  {
   "cell_type": "code",
   "execution_count": 1,
   "id": "4c5b8486",
   "metadata": {},
   "outputs": [],
   "source": [
    "import pandas as pd;"
   ]
  },
  {
   "cell_type": "code",
   "execution_count": null,
   "id": "7ba9e442",
   "metadata": {},
   "outputs": [
    {
     "name": "stdout",
     "output_type": "stream",
     "text": [
      "Data Frame is:\n",
      "         name  age  salary  Std#  performance Score\n",
      "0     shahid   23    3873    10                 85\n",
      "1      basit   24    9472    20                 23\n",
      "2    zeeshan   25    2904    30                 45\n",
      "3     kumail   20    2890    40                 90\n",
      "4     askari   11    4232    50                 14\n",
      "5      siraj   23    3211    60                 45\n",
      "6    shukoor   46    2222    70                 67\n",
      "7      kazim   78    4562    80                 78\n",
      "8   muhammad   64    1234    90                 90\n",
      "9     sakina   30    3421   100                 33\n",
      "10   khatija   26    1235   110                 66\n",
      "11     kubra   28    7632   120                 88\n"
     ]
    }
   ],
   "source": [
    "data={\n",
    "    \"name\":[\"shahid\",\"basit\",\"zeeshan\",\"kumail\",\"askari\",\"siraj\",\"shukoor\",\"kazim\",\"muhammad\",\"sakina\",\"khatija\",\"kubra\"],\n",
    "    \"age\":[23,24,25,20,11,23,46,78,64,30,26,28],\n",
    "    \"salary\":[3873,9472,2904,2890,4232,3211,2222,4562,1234,3421,1235,7632],\n",
    "    \"performance Score\":[85,23,45,90,14,45,67,78,90,33,66,88],\n",
    "\n",
    "}\n",
    "df=pd.DataFrame(data)\n",
    "\n",
    "df.insert(0,\"Std#\",[10,20,30,40,50,60,70,80,90,100,110,120])\n",
    "print(\"Data Frame is:\\n\",df)\n"
   ]
  }
 ],
 "metadata": {
  "kernelspec": {
   "display_name": "pylib",
   "language": "python",
   "name": "python3"
  },
  "language_info": {
   "codemirror_mode": {
    "name": "ipython",
    "version": 3
   },
   "file_extension": ".py",
   "mimetype": "text/x-python",
   "name": "python",
   "nbconvert_exporter": "python",
   "pygments_lexer": "ipython3",
   "version": "3.11.13"
  }
 },
 "nbformat": 4,
 "nbformat_minor": 5
}
