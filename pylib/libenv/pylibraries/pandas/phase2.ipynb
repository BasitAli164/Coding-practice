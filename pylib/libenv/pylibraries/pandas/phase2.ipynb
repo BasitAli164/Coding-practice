{
 "cells": [
  {
   "cell_type": "markdown",
   "id": "5feaa204",
   "metadata": {},
   "source": [
    "# How to Modify the dataset"
   ]
  },
  {
   "cell_type": "markdown",
   "id": "467d4053",
   "metadata": {},
   "source": [
    "## 1. Insert New column in Dataset"
   ]
  },
  {
   "cell_type": "code",
   "execution_count": null,
   "id": "4c5b8486",
   "metadata": {},
   "outputs": [],
   "source": [
    "import pandas as pd;\n",
    "import matplotlib.pyplot as plt"
   ]
  },
  {
   "cell_type": "code",
   "execution_count": null,
   "id": "7ba9e442",
   "metadata": {},
   "outputs": [],
   "source": [
    "data={\n",
    "    \"name\":[\"shahid\",\"basit\",\"zeeshan\",\"kumail\",\"askari\",\"siraj\",\"shukoor\",\"kazim\",\"muhammad\",\"sakina\",\"khatija\",\"kubra\"],\n",
    "    \"age\":[23,24,25,20,11,23,46,78,64,30,26,28],\n",
    "    \"salary\":[3873,9472,2904,2890,4232,3211,2222,4562,1234,3421,1235,7632],\n",
    "    \"performance Score\":[85,23,45,90,14,45,67,78,90,33,66,88],\n",
    "\n",
    "}\n",
    "df=pd.DataFrame(data)\n",
    "\n",
    "df.insert(0,\"Std#\",[10,20,30,40,50,60,70,80,90,100,110,120]) # df.insert(columnIndex,columnName,columnObjectData)\n",
    "print(\"Data Frame is:\\n\",df)"
   ]
  },
  {
   "cell_type": "markdown",
   "id": "b459e3de",
   "metadata": {},
   "source": [
    "# 2. Update any data in dataframe"
   ]
  },
  {
   "cell_type": "code",
   "execution_count": null,
   "id": "c973118e",
   "metadata": {},
   "outputs": [],
   "source": [
    "# update single value from dataset\n",
    "update=df.loc[2,'age']=400 # loc update a specific value\n",
    "print(\"Update data in dataFrame:\\n\",df)"
   ]
  },
  {
   "cell_type": "code",
   "execution_count": null,
   "id": "7af66566",
   "metadata": {},
   "outputs": [],
   "source": [
    "# update how column values in dataset\n",
    "df['salary']=df['salary']*1.5\n",
    "print(\"update whole column:\\n \",df)"
   ]
  },
  {
   "cell_type": "markdown",
   "id": "30f736d3",
   "metadata": {},
   "source": [
    "# 3.Removing Column from dataset"
   ]
  },
  {
   "cell_type": "code",
   "execution_count": null,
   "id": "4808e5f1",
   "metadata": {},
   "outputs": [],
   "source": [
    "# remove or drop single column from dataset\n",
    "df.drop(columns=[\"Std#\"],inplace=True)\n",
    "print(\"After removing column: \\n\",df)\n",
    "\n",
    "\n",
    "# remove or drop multiple column from dataset\n",
    "\n",
    "df.drop(columns=[\"age\",\"salary\"])\n",
    "print(\"Drop multiple column\")"
   ]
  },
  {
   "cell_type": "markdown",
   "id": "cc947e8c",
   "metadata": {},
   "source": [
    "# 4. Handling Missing Value"
   ]
  },
  {
   "cell_type": "code",
   "execution_count": 52,
   "id": "1aab5e0d",
   "metadata": {},
   "outputs": [
    {
     "name": "stdout",
     "output_type": "stream",
     "text": [
      "Feature are:\n",
      "         name   age  salary  performance Score\n",
      "0     shahid  23.0  3873.0               85.0\n",
      "1      basit  24.0  9472.0               23.0\n",
      "2       None  25.0     NaN               45.0\n",
      "3     kumail  20.0  2890.0                NaN\n",
      "4     askari   NaN  4232.0               14.0\n",
      "5      siraj  23.0  3211.0               45.0\n",
      "6    shukoor  46.0  2222.0               67.0\n",
      "7      kazim  78.0  4562.0               78.0\n",
      "8   muhammad  64.0  1234.0               90.0\n",
      "9     sakina  30.0  3421.0               33.0\n",
      "10   khatija  26.0  1235.0               66.0\n",
      "11     kubra  28.0  7632.0               88.0\n",
      "<class 'pandas.core.frame.DataFrame'>\n",
      "RangeIndex: 12 entries, 0 to 11\n",
      "Data columns (total 4 columns):\n",
      " #   Column             Non-Null Count  Dtype  \n",
      "---  ------             --------------  -----  \n",
      " 0   name               11 non-null     object \n",
      " 1   age                11 non-null     float64\n",
      " 2   salary             11 non-null     float64\n",
      " 3   performance Score  11 non-null     float64\n",
      "dtypes: float64(3), object(1)\n",
      "memory usage: 516.0+ bytes\n",
      "Information about feature:\n",
      " None\n",
      "Check for null value:\n",
      "      name    age  salary  performance Score\n",
      "0   False  False   False              False\n",
      "1   False  False   False              False\n",
      "2    True  False    True              False\n",
      "3   False  False   False               True\n",
      "4   False   True   False              False\n",
      "5   False  False   False              False\n",
      "6   False  False   False              False\n",
      "7   False  False   False              False\n",
      "8   False  False   False              False\n",
      "9   False  False   False              False\n",
      "10  False  False   False              False\n",
      "11  False  False   False              False\n",
      "Count how many null value here in data set:\n",
      " name                 1\n",
      "age                  1\n",
      "salary               1\n",
      "performance Score    1\n",
      "dtype: int64\n"
     ]
    }
   ],
   "source": [
    "missingDataSet={\n",
    "    \"name\":[\"shahid\",\"basit\",None,\"kumail\",\"askari\",\"siraj\",\"shukoor\",\"kazim\",\"muhammad\",\"sakina\",\"khatija\",\"kubra\"],\n",
    "    \"age\":[23,24,25,20,None,23,46,78,64,30,26,28],\n",
    "    \"salary\":[3873,9472,None,2890,4232,3211,2222,4562,1234,3421,1235,7632],\n",
    "    \"performance Score\":[85,23,45,None,14,45,67,78,90,33,66,88],\n",
    "\n",
    "}\n",
    "df1=pd.DataFrame(missingDataSet)\n",
    "\n",
    "print(\"Feature are:\\n\",df1)\n",
    "print(\"Information about feature:\\n\",df1.info()) # return the information about data or feature\n",
    "print(\"Check for null value:\\n\",df1.isnull()) # return ture if there have any null value\n",
    "print(\"Count how many null value here in data set:\\n\",df1.isnull().sum())\n",
    "\n"
   ]
  },
  {
   "cell_type": "markdown",
   "id": "22e8b862",
   "metadata": {},
   "source": [
    "## dropna() and fillna()"
   ]
  },
  {
   "cell_type": "code",
   "execution_count": null,
   "id": "89bd1629",
   "metadata": {},
   "outputs": [],
   "source": [
    "# dropna()\n",
    "# note in real project we don't remove the value , we replace the null values with another value which is exits in dataframe means don't use this method mostly with real project we use fillna() method\n",
    "\n",
    "df1.dropna(inplace=True) # dropna(axis=0/1,inplace=True) , this method return whole dataset or dataframe after remove the null or none or empty value means remvoe whole rows if there detect missing value\n",
    "\n",
    "print(\"dataset after removing the missing values:\\n\",df1)"
   ]
  },
  {
   "cell_type": "code",
   "execution_count": null,
   "id": "18a5dae1",
   "metadata": {},
   "outputs": [
    {
     "name": "stdout",
     "output_type": "stream",
     "text": [
      "Replace the null values with any other values:\n",
      "         name        age  salary  performance Score\n",
      "0     shahid  23.000000  3873.0               85.0\n",
      "1      basit  24.000000  9472.0               23.0\n",
      "2      kazim  25.000000  1851.0               45.0\n",
      "3     kumail  20.000000  2890.0                NaN\n",
      "4     askari  64.416667  4232.0               14.0\n",
      "5      siraj  23.000000  3211.0               45.0\n",
      "6    shukoor  46.000000  2222.0               67.0\n",
      "7      kazim  78.000000  4562.0               78.0\n",
      "8   muhammad  64.000000  1234.0               90.0\n",
      "9     sakina  30.000000  3421.0               33.0\n",
      "10   khatija  26.000000  1235.0               66.0\n",
      "11     kubra  28.000000  7632.0               88.0\n",
      "Sum is:  1234.0\n",
      "mean is:  3819.5833333333335\n"
     ]
    },
    {
     "name": "stderr",
     "output_type": "stream",
     "text": [
      "C:\\Users\\aaa\\AppData\\Local\\Temp\\ipykernel_20432\\2749389561.py:5: FutureWarning: A value is trying to be set on a copy of a DataFrame or Series through chained assignment using an inplace method.\n",
      "The behavior will change in pandas 3.0. This inplace method will never work because the intermediate object on which we are setting values always behaves as a copy.\n",
      "\n",
      "For example, when doing 'df[col].method(value, inplace=True)', try using 'df.method({col: value}, inplace=True)' or df[col] = df[col].method(value) instead, to perform the operation inplace on the original object.\n",
      "\n",
      "\n",
      "  df1['age'].fillna(df['age'].mean(),inplace=True)\n",
      "C:\\Users\\aaa\\AppData\\Local\\Temp\\ipykernel_20432\\2749389561.py:7: FutureWarning: A value is trying to be set on a copy of a DataFrame or Series through chained assignment using an inplace method.\n",
      "The behavior will change in pandas 3.0. This inplace method will never work because the intermediate object on which we are setting values always behaves as a copy.\n",
      "\n",
      "For example, when doing 'df[col].method(value, inplace=True)', try using 'df.method({col: value}, inplace=True)' or df[col] = df[col].method(value) instead, to perform the operation inplace on the original object.\n",
      "\n",
      "\n",
      "  df1['salary'].fillna(df['salary'].min,inplace=True)\n"
     ]
    }
   ],
   "source": [
    "# fillna()\n",
    "\n",
    "# df1.fillna(0,inplace=True) # this replace all missing or null value with 0 but this is not good\n",
    "\n",
    "df1['age'].fillna(df['age'].mean(),inplace=True)\n",
    "df1['name'].fillna(df['name'].mode(),inplace=True)\n",
    "df1['salary'].fillna(df['salary'].min(),inplace=True)\n",
    "print(\"Replace the null values with any other values:\\n\",df1)\n",
    "\n",
    "\n",
    "sum=df1['salary'].min()\n",
    "mean=df1['salary'].mean()\n",
    "print(\"Sum is: \",sum)\n",
    "print(\"mean is: \",mean)\n",
    "\n"
   ]
  }
 ],
 "metadata": {
  "kernelspec": {
   "display_name": "pylib",
   "language": "python",
   "name": "python3"
  },
  "language_info": {
   "codemirror_mode": {
    "name": "ipython",
    "version": 3
   },
   "file_extension": ".py",
   "mimetype": "text/x-python",
   "name": "python",
   "nbconvert_exporter": "python",
   "pygments_lexer": "ipython3",
   "version": "3.11.13"
  }
 },
 "nbformat": 4,
 "nbformat_minor": 5
}
