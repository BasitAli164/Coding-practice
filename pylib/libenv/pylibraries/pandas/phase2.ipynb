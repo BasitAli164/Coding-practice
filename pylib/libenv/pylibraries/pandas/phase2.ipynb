{
 "cells": [
  {
   "cell_type": "markdown",
   "id": "5feaa204",
   "metadata": {},
   "source": [
    "# How to Modify the dataset"
   ]
  },
  {
   "cell_type": "markdown",
   "id": "467d4053",
   "metadata": {},
   "source": [
    "## 1. Insert New column in Dataset"
   ]
  },
  {
   "cell_type": "code",
   "execution_count": null,
   "id": "4c5b8486",
   "metadata": {},
   "outputs": [],
   "source": [
    "import pandas as pd;\n",
    "import matplotlib.pyplot as plt"
   ]
  },
  {
   "cell_type": "code",
   "execution_count": null,
   "id": "7ba9e442",
   "metadata": {},
   "outputs": [],
   "source": [
    "data={\n",
    "    \"name\":[\"shahid\",\"basit\",\"zeeshan\",\"kumail\",\"askari\",\"siraj\",\"shukoor\",\"kazim\",\"muhammad\",\"sakina\",\"khatija\",\"kubra\"],\n",
    "    \"age\":[23,24,25,20,11,23,46,78,64,30,26,28],\n",
    "    \"salary\":[3873,9472,2904,2890,4232,3211,2222,4562,1234,3421,1235,7632],\n",
    "    \"performance Score\":[85,23,45,90,14,45,67,78,90,33,66,88],\n",
    "\n",
    "}\n",
    "df=pd.DataFrame(data)\n",
    "\n",
    "df.insert(0,\"Std#\",[10,20,30,40,50,60,70,80,90,100,110,120]) # df.insert(columnIndex,columnName,columnObjectData)\n",
    "print(\"Data Frame is:\\n\",df)"
   ]
  },
  {
   "cell_type": "markdown",
   "id": "b459e3de",
   "metadata": {},
   "source": [
    "# 2. Update any data in dataframe"
   ]
  },
  {
   "cell_type": "code",
   "execution_count": null,
   "id": "c973118e",
   "metadata": {},
   "outputs": [],
   "source": [
    "# update single value from dataset\n",
    "update=df.loc[2,'age']=400 # loc update a specific value\n",
    "print(\"Update data in dataFrame:\\n\",df)"
   ]
  },
  {
   "cell_type": "code",
   "execution_count": null,
   "id": "7af66566",
   "metadata": {},
   "outputs": [],
   "source": [
    "# update how column values in dataset\n",
    "df['salary']=df['salary']*1.5\n",
    "print(\"update whole column:\\n \",df)"
   ]
  },
  {
   "cell_type": "markdown",
   "id": "30f736d3",
   "metadata": {},
   "source": [
    "# 3.Removing Column from dataset"
   ]
  },
  {
   "cell_type": "code",
   "execution_count": null,
   "id": "4808e5f1",
   "metadata": {},
   "outputs": [],
   "source": [
    "# remove or drop single column from dataset\n",
    "df.drop(columns=[\"Std#\"],inplace=True)\n",
    "print(\"After removing column: \\n\",df)\n",
    "\n",
    "\n",
    "# remove or drop multiple column from dataset\n",
    "\n",
    "df.drop(columns=[\"age\",\"salary\"])\n",
    "print(\"Drop multiple column\")"
   ]
  },
  {
   "cell_type": "markdown",
   "id": "cc947e8c",
   "metadata": {},
   "source": [
    "# 4. Handling Missing Value"
   ]
  },
  {
   "cell_type": "code",
   "execution_count": null,
   "id": "1aab5e0d",
   "metadata": {},
   "outputs": [
    {
     "name": "stdout",
     "output_type": "stream",
     "text": [
      "dataset after removing the missing values:\n",
      "         name   age  salary  performance Score\n",
      "0     shahid  23.0  3873.0               85.0\n",
      "1      basit  24.0  9472.0               23.0\n",
      "5      siraj  23.0  3211.0               45.0\n",
      "6    shukoor  46.0  2222.0               67.0\n",
      "7      kazim  78.0  4562.0               78.0\n",
      "8   muhammad  64.0  1234.0               90.0\n",
      "9     sakina  30.0  3421.0               33.0\n",
      "10   khatija  26.0  1235.0               66.0\n",
      "11     kubra  28.0  7632.0               88.0\n"
     ]
    }
   ],
   "source": [
    "missingDataSet={\n",
    "    \"name\":[\"shahid\",\"basit\",None,\"kumail\",\"askari\",\"siraj\",\"shukoor\",\"kazim\",\"muhammad\",\"sakina\",\"khatija\",\"kubra\"],\n",
    "    \"age\":[23,24,25,20,None,23,46,78,64,30,26,28],\n",
    "    \"salary\":[3873,9472,None,2890,4232,3211,2222,4562,1234,3421,1235,7632],\n",
    "    \"performance Score\":[85,23,45,None,14,45,67,78,90,33,66,88],\n",
    "\n",
    "}\n",
    "\n",
    "df1=pd.DataFrame(missingDataSet)\n",
    "\n",
    "# print(\"Feature are:\\n\",df1)\n",
    "# print(\"Information about feature:\\n\",df1.info()) # return the information about data or feature\n",
    "# print(\"Check for null value:\\n\",df1.isnull()) # return ture if there have any null value\n",
    "# print(\"Count how many null value here in data set:\\n\",df1.isnull().sum())\n",
    "\n",
    "\n",
    "\n",
    "df1.dropna(inplace=True) # dropna(axis=0/1,inplace=True) , this method return whole dataset or dataframe after remove the null or none or empty value means remvoe whole rows if there detect missing value\n",
    "print(\"dataset after removing the missing values:\\n\",df1)\n",
    "\n"
   ]
  }
 ],
 "metadata": {
  "kernelspec": {
   "display_name": "pylib",
   "language": "python",
   "name": "python3"
  },
  "language_info": {
   "codemirror_mode": {
    "name": "ipython",
    "version": 3
   },
   "file_extension": ".py",
   "mimetype": "text/x-python",
   "name": "python",
   "nbconvert_exporter": "python",
   "pygments_lexer": "ipython3",
   "version": "3.11.13"
  }
 },
 "nbformat": 4,
 "nbformat_minor": 5
}
