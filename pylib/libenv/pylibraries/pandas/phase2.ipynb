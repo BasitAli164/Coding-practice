{
 "cells": [
  {
   "cell_type": "markdown",
   "id": "5feaa204",
   "metadata": {},
   "source": [
    "# How to add new column in dataset"
   ]
  },
  {
   "cell_type": "code",
   "execution_count": 1,
   "id": "4c5b8486",
   "metadata": {},
   "outputs": [],
   "source": [
    "import pandas as pd;"
   ]
  },
  {
   "cell_type": "code",
   "execution_count": 10,
   "id": "7ba9e442",
   "metadata": {},
   "outputs": [
    {
     "name": "stdout",
     "output_type": "stream",
     "text": [
      "Data Frame is:\n",
      "     Std#      name  age  salary  performance Score\n",
      "0     10    shahid   23    3873                 85\n",
      "1     20     basit   24    9472                 23\n",
      "2     30   zeeshan   25    2904                 45\n",
      "3     40    kumail   20    2890                 90\n",
      "4     50    askari   11    4232                 14\n",
      "5     60     siraj   23    3211                 45\n",
      "6     70   shukoor   46    2222                 67\n",
      "7     80     kazim   78    4562                 78\n",
      "8     90  muhammad   64    1234                 90\n",
      "9    100    sakina   30    3421                 33\n",
      "10   110   khatija   26    1235                 66\n",
      "11   120     kubra   28    7632                 88\n"
     ]
    }
   ],
   "source": [
    "data={\n",
    "    \"name\":[\"shahid\",\"basit\",\"zeeshan\",\"kumail\",\"askari\",\"siraj\",\"shukoor\",\"kazim\",\"muhammad\",\"sakina\",\"khatija\",\"kubra\"],\n",
    "    \"age\":[23,24,25,20,11,23,46,78,64,30,26,28],\n",
    "    \"salary\":[3873,9472,2904,2890,4232,3211,2222,4562,1234,3421,1235,7632],\n",
    "    \"performance Score\":[85,23,45,90,14,45,67,78,90,33,66,88],\n",
    "\n",
    "}\n",
    "df=pd.DataFrame(data)\n",
    "\n",
    "df.insert(0,\"Std#\",[10,20,30,40,50,60,70,80,90,100,110,120])\n",
    "print(\"Data Frame is:\\n\",df)\n"
   ]
  }
 ],
 "metadata": {
  "kernelspec": {
   "display_name": "pylib",
   "language": "python",
   "name": "python3"
  },
  "language_info": {
   "codemirror_mode": {
    "name": "ipython",
    "version": 3
   },
   "file_extension": ".py",
   "mimetype": "text/x-python",
   "name": "python",
   "nbconvert_exporter": "python",
   "pygments_lexer": "ipython3",
   "version": "3.11.13"
  }
 },
 "nbformat": 4,
 "nbformat_minor": 5
}
