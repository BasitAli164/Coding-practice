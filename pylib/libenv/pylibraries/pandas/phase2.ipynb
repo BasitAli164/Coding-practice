{
 "cells": [
  {
   "cell_type": "markdown",
   "id": "5feaa204",
   "metadata": {},
   "source": [
    "# How to Modify the dataset"
   ]
  },
  {
   "cell_type": "markdown",
   "id": "467d4053",
   "metadata": {},
   "source": [
    "## 1. Insert New column in Dataset"
   ]
  },
  {
   "cell_type": "code",
   "execution_count": 1,
   "id": "4c5b8486",
   "metadata": {},
   "outputs": [],
   "source": [
    "import pandas as pd;\n",
    "import matplotlib.pyplot as plt"
   ]
  },
  {
   "cell_type": "code",
   "execution_count": null,
   "id": "7ba9e442",
   "metadata": {},
   "outputs": [],
   "source": [
    "data={\n",
    "    \"name\":[\"shahid\",\"basit\",\"zeeshan\",\"kumail\",\"askari\",\"siraj\",\"shukoor\",\"kazim\",\"muhammad\",\"sakina\",\"khatija\",\"kubra\"],\n",
    "    \"age\":[23,24,25,20,11,23,46,78,64,30,26,28],\n",
    "    \"salary\":[3873,9472,2904,2890,4232,3211,2222,4562,1234,3421,1235,7632],\n",
    "    \"performance Score\":[85,23,45,90,14,45,67,78,90,33,66,88],\n",
    "\n",
    "}\n",
    "df=pd.DataFrame(data)\n",
    "\n",
    "df.insert(0,\"Std#\",[10,20,30,40,50,60,70,80,90,100,110,120])\n",
    "print(\"Data Frame is:\\n\",df)"
   ]
  }
 ],
 "metadata": {
  "kernelspec": {
   "display_name": "pylib",
   "language": "python",
   "name": "python3"
  },
  "language_info": {
   "codemirror_mode": {
    "name": "ipython",
    "version": 3
   },
   "file_extension": ".py",
   "mimetype": "text/x-python",
   "name": "python",
   "nbconvert_exporter": "python",
   "pygments_lexer": "ipython3",
   "version": "3.11.13"
  }
 },
 "nbformat": 4,
 "nbformat_minor": 5
}
