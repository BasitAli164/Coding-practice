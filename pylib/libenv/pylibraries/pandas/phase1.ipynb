{
 "cells": [
  {
   "cell_type": "markdown",
   "id": "835ee7f8",
   "metadata": {},
   "source": [
    "# Pandas Library"
   ]
  },
  {
   "cell_type": "markdown",
   "id": "cffdc2c3",
   "metadata": {},
   "source": [
    "#### Explore pandas lib from scratch "
   ]
  },
  {
   "cell_type": "code",
   "execution_count": null,
   "id": "08d7f77f",
   "metadata": {},
   "outputs": [],
   "source": [
    "import pandas as pd;"
   ]
  },
  {
   "cell_type": "markdown",
   "id": "db9294cc",
   "metadata": {},
   "source": [
    "### Read Dataset from local device"
   ]
  },
  {
   "cell_type": "code",
   "execution_count": null,
   "id": "e8e5322c",
   "metadata": {},
   "outputs": [],
   "source": [
    "df=pd.read_csv('car_prices.csv') # we can read json, html, xlsx file with the help of pandas\n",
    "print(f\"First five Data:\\n{df.head()}\")\n",
    "print(f\"\\nLast five Data:\\n{df.tail()}\")\n",
    "\n"
   ]
  },
  {
   "cell_type": "markdown",
   "id": "a1767dd4",
   "metadata": {},
   "source": [
    "### Custome Dataset and save in local device\n"
   ]
  },
  {
   "cell_type": "code",
   "execution_count": null,
   "id": "5c92f8ee",
   "metadata": {},
   "outputs": [],
   "source": [
    "person={\n",
    "    \"personName\":[\"basit\",\"ali\",\"muhammad\"],\n",
    "    \"age\":[23,44,19],\n",
    "    \"gender\":[\"male\",\"male\",\"male\"],\n",
    "    \"weight\":[70.3,70,'2']\n",
    "}\n",
    "\n",
    "person=pd.DataFrame(person)\n",
    "\n",
    "person.to_json(\"output.json\",index=False)\n",
    "\n"
   ]
  },
  {
   "cell_type": "markdown",
   "id": "65c68b4f",
   "metadata": {},
   "source": [
    "## Info and descript Method"
   ]
  },
  {
   "cell_type": "code",
   "execution_count": null,
   "id": "788671d1",
   "metadata": {},
   "outputs": [],
   "source": [
    "# print(\"Infor of Dataset:\",df.info()) # information about the whole dataset\n",
    "\n",
    "data={\n",
    "    \"name\":[\"shahid\",\"basit\",\"zeeshan\",\"kumail\",\"askari\",\"siraj\",\"shukoor\",\"kazim\",\"muhammad\",\"sakina\",\"khatija\",\"kubra\"],\n",
    "    \"age\":[23,24,25,20,11,23,46,78,64,30,26,28],\n",
    "    \"salary\":[3873,9472,2904,2890,4232,3211,2222,4562,1234,3421,1235,7632],\n",
    "    \"performance Score\":[85,23,45,90,14,45,67,78,90,33,66,88],\n",
    "\n",
    "}\n",
    "\n",
    "sampledf=pd.DataFrame(data)\n",
    "print(\"Sample DataFram:\\n\",sampledf)\n",
    "\n",
    "print(\"Descriptive Statistics:\")\n",
    "print(\"\\n\",sampledf.describe())\n"
   ]
  },
  {
   "cell_type": "markdown",
   "id": "23c27394",
   "metadata": {},
   "source": [
    "## Shape and column"
   ]
  },
  {
   "cell_type": "code",
   "execution_count": null,
   "id": "8f075517",
   "metadata": {},
   "outputs": [],
   "source": [
    "print(\"Shape of dataframe\",sampledf.shape)\n",
    "print(\"Column of Dataset:\",sampledf.columns)"
   ]
  },
  {
   "cell_type": "markdown",
   "id": "4457ea52",
   "metadata": {},
   "source": [
    "## Filter and selecting"
   ]
  },
  {
   "cell_type": "code",
   "execution_count": null,
   "id": "10456355",
   "metadata": {},
   "outputs": [],
   "source": [
    "# Select single  Column\n",
    "\n",
    "selectAge=sampledf[\"age\"]\n",
    "print(\"Select single Column in Dataset\\n\",selectAge)\n",
    "\n",
    "selectMultipleColumn=sampledf[[\"age\",\"name\",\"performance Score\"]]\n",
    "print(\"Select Multiple Column in Dataset\\n\",selectMultipleColumn)\n",
    "\n",
    "\n",
    "\n",
    "\n",
    "\n",
    "\n",
    "filterAge=sampledf[sampledf[\"age\"]>30]\n",
    "filterAge"
   ]
  }
 ],
 "metadata": {
  "kernelspec": {
   "display_name": "pylib",
   "language": "python",
   "name": "python3"
  },
  "language_info": {
   "codemirror_mode": {
    "name": "ipython",
    "version": 3
   },
   "file_extension": ".py",
   "mimetype": "text/x-python",
   "name": "python",
   "nbconvert_exporter": "python",
   "pygments_lexer": "ipython3",
   "version": "3.11.13"
  }
 },
 "nbformat": 4,
 "nbformat_minor": 5
}
