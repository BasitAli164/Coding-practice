{
 "cells": [
  {
   "cell_type": "markdown",
   "id": "835ee7f8",
   "metadata": {},
   "source": [
    "# Pandas Library"
   ]
  },
  {
   "cell_type": "markdown",
   "id": "cffdc2c3",
   "metadata": {},
   "source": [
    "#### Explore pandas lib from scratch "
   ]
  },
  {
   "cell_type": "code",
   "execution_count": 1,
   "id": "08d7f77f",
   "metadata": {},
   "outputs": [],
   "source": [
    "import pandas as pd;"
   ]
  },
  {
   "cell_type": "markdown",
   "id": "db9294cc",
   "metadata": {},
   "source": [
    "### Read Dataset from local device"
   ]
  },
  {
   "cell_type": "code",
   "execution_count": null,
   "id": "e8e5322c",
   "metadata": {},
   "outputs": [],
   "source": [
    "df=pd.read_csv('car_prices.csv') # we can read json, html, xlsx file with the help of pandas\n",
    "print(f\"First five Data:\\n{df.head()}\")\n",
    "print(f\"\\nLast five Data:\\n{df.tail()}\")\n",
    "\n"
   ]
  },
  {
   "cell_type": "markdown",
   "id": "a1767dd4",
   "metadata": {},
   "source": [
    "### Custome Dataset and save in local device\n"
   ]
  },
  {
   "cell_type": "code",
   "execution_count": null,
   "id": "5c92f8ee",
   "metadata": {},
   "outputs": [],
   "source": [
    "person={\n",
    "    \"personName\":[\"basit\",\"ali\",\"muhammad\"],\n",
    "    \"age\":[23,44,19],\n",
    "    \"gender\":[\"male\",\"male\",\"male\"],\n",
    "    \"weight\":[70.3,70,'2']\n",
    "}\n",
    "\n",
    "person=pd.DataFrame(person)\n",
    "\n",
    "person.to_json(\"output.json\",index=False)\n",
    "\n"
   ]
  },
  {
   "cell_type": "markdown",
   "id": "65c68b4f",
   "metadata": {},
   "source": [
    "## Info and descript Method"
   ]
  },
  {
   "cell_type": "code",
   "execution_count": 13,
   "id": "788671d1",
   "metadata": {},
   "outputs": [
    {
     "name": "stdout",
     "output_type": "stream",
     "text": [
      "Sample DataFram:\n",
      "         name  age  salary  performance Score\n",
      "0     shahid   23    3873                 85\n",
      "1      basit   24    9472                 23\n",
      "2    zeeshan   25    2904                 45\n",
      "3     kumail   20    2890                 90\n",
      "4     askari   11    4232                 14\n",
      "5      siraj   23    3211                 45\n",
      "6    shukoor   46    2222                 67\n",
      "7      kazim   78    4562                 78\n",
      "8   muhammad   64    1234                 90\n",
      "9     sakina   30    3421                 33\n",
      "10   khatija   26    1235                 66\n",
      "11     kubra   28    7632                 88\n",
      "Descriptive Statistics:\n",
      "\n",
      "              age       salary  performance Score\n",
      "count  12.000000    12.000000          12.000000\n",
      "mean   33.166667  3907.333333          60.333333\n",
      "std    19.622961  2435.818001          27.436980\n",
      "min    11.000000  1234.000000          14.000000\n",
      "25%    23.000000  2723.000000          42.000000\n",
      "50%    25.500000  3316.000000          66.500000\n",
      "75%    34.000000  4314.500000          85.750000\n",
      "max    78.000000  9472.000000          90.000000\n"
     ]
    }
   ],
   "source": [
    "# print(\"Infor of Dataset:\",df.info()) # information about the whole dataset\n",
    "\n",
    "data={\n",
    "    \"name\":[\"shahid\",\"basit\",\"zeeshan\",\"kumail\",\"askari\",\"siraj\",\"shukoor\",\"kazim\",\"muhammad\",\"sakina\",\"khatija\",\"kubra\"],\n",
    "    \"age\":[23,24,25,20,11,23,46,78,64,30,26,28],\n",
    "    \"salary\":[3873,9472,2904,2890,4232,3211,2222,4562,1234,3421,1235,7632],\n",
    "    \"performance Score\":[85,23,45,90,14,45,67,78,90,33,66,88],\n",
    "\n",
    "}\n",
    "\n",
    "sampledf=pd.DataFrame(data)\n",
    "print(\"Sample DataFram:\\n\",sampledf)\n",
    "\n",
    "print(\"Descriptive Statistics:\")\n",
    "print(\"\\n\",sampledf.describe())\n"
   ]
  },
  {
   "cell_type": "markdown",
   "id": "23c27394",
   "metadata": {},
   "source": [
    "## Shape and column"
   ]
  },
  {
   "cell_type": "code",
   "execution_count": 4,
   "id": "8f075517",
   "metadata": {},
   "outputs": [
    {
     "name": "stdout",
     "output_type": "stream",
     "text": [
      "Shape of dataframe (4, 4)\n",
      "Column of Dataset: Index(['name', 'age', 'salary', 'performance Score'], dtype='object')\n"
     ]
    }
   ],
   "source": [
    "print(\"Shape of dataframe\",sampledf.shape)\n",
    "print(\"Column of Dataset:\",sampledf.columns)"
   ]
  },
  {
   "cell_type": "markdown",
   "id": "4457ea52",
   "metadata": {},
   "source": [
    "## Filter and selecting"
   ]
  },
  {
   "cell_type": "code",
   "execution_count": 23,
   "id": "10456355",
   "metadata": {},
   "outputs": [
    {
     "name": "stdout",
     "output_type": "stream",
     "text": [
      "Select single Column in Dataset\n",
      " 0     23\n",
      "1     24\n",
      "2     25\n",
      "3     20\n",
      "4     11\n",
      "5     23\n",
      "6     46\n",
      "7     78\n",
      "8     64\n",
      "9     30\n",
      "10    26\n",
      "11    28\n",
      "Name: age, dtype: int64\n"
     ]
    },
    {
     "data": {
      "text/html": [
       "<div>\n",
       "<style scoped>\n",
       "    .dataframe tbody tr th:only-of-type {\n",
       "        vertical-align: middle;\n",
       "    }\n",
       "\n",
       "    .dataframe tbody tr th {\n",
       "        vertical-align: top;\n",
       "    }\n",
       "\n",
       "    .dataframe thead th {\n",
       "        text-align: right;\n",
       "    }\n",
       "</style>\n",
       "<table border=\"1\" class=\"dataframe\">\n",
       "  <thead>\n",
       "    <tr style=\"text-align: right;\">\n",
       "      <th></th>\n",
       "      <th>age</th>\n",
       "      <th>name</th>\n",
       "      <th>performance Score</th>\n",
       "    </tr>\n",
       "  </thead>\n",
       "  <tbody>\n",
       "    <tr>\n",
       "      <th>0</th>\n",
       "      <td>23</td>\n",
       "      <td>shahid</td>\n",
       "      <td>85</td>\n",
       "    </tr>\n",
       "    <tr>\n",
       "      <th>1</th>\n",
       "      <td>24</td>\n",
       "      <td>basit</td>\n",
       "      <td>23</td>\n",
       "    </tr>\n",
       "    <tr>\n",
       "      <th>2</th>\n",
       "      <td>25</td>\n",
       "      <td>zeeshan</td>\n",
       "      <td>45</td>\n",
       "    </tr>\n",
       "    <tr>\n",
       "      <th>3</th>\n",
       "      <td>20</td>\n",
       "      <td>kumail</td>\n",
       "      <td>90</td>\n",
       "    </tr>\n",
       "    <tr>\n",
       "      <th>4</th>\n",
       "      <td>11</td>\n",
       "      <td>askari</td>\n",
       "      <td>14</td>\n",
       "    </tr>\n",
       "    <tr>\n",
       "      <th>5</th>\n",
       "      <td>23</td>\n",
       "      <td>siraj</td>\n",
       "      <td>45</td>\n",
       "    </tr>\n",
       "    <tr>\n",
       "      <th>6</th>\n",
       "      <td>46</td>\n",
       "      <td>shukoor</td>\n",
       "      <td>67</td>\n",
       "    </tr>\n",
       "    <tr>\n",
       "      <th>7</th>\n",
       "      <td>78</td>\n",
       "      <td>kazim</td>\n",
       "      <td>78</td>\n",
       "    </tr>\n",
       "    <tr>\n",
       "      <th>8</th>\n",
       "      <td>64</td>\n",
       "      <td>muhammad</td>\n",
       "      <td>90</td>\n",
       "    </tr>\n",
       "    <tr>\n",
       "      <th>9</th>\n",
       "      <td>30</td>\n",
       "      <td>sakina</td>\n",
       "      <td>33</td>\n",
       "    </tr>\n",
       "    <tr>\n",
       "      <th>10</th>\n",
       "      <td>26</td>\n",
       "      <td>khatija</td>\n",
       "      <td>66</td>\n",
       "    </tr>\n",
       "    <tr>\n",
       "      <th>11</th>\n",
       "      <td>28</td>\n",
       "      <td>kubra</td>\n",
       "      <td>88</td>\n",
       "    </tr>\n",
       "  </tbody>\n",
       "</table>\n",
       "</div>"
      ],
      "text/plain": [
       "    age      name  performance Score\n",
       "0    23    shahid                 85\n",
       "1    24     basit                 23\n",
       "2    25   zeeshan                 45\n",
       "3    20    kumail                 90\n",
       "4    11    askari                 14\n",
       "5    23     siraj                 45\n",
       "6    46   shukoor                 67\n",
       "7    78     kazim                 78\n",
       "8    64  muhammad                 90\n",
       "9    30    sakina                 33\n",
       "10   26   khatija                 66\n",
       "11   28     kubra                 88"
      ]
     },
     "execution_count": 23,
     "metadata": {},
     "output_type": "execute_result"
    }
   ],
   "source": [
    "# Select single  Column\n",
    "\n",
    "selectAge=sampledf[\"age\"]\n",
    "print(\"Select single Column in Dataset\\n\",selectAge)\n",
    "\n",
    "selectMultipleColumn=sampledf[[\"age\",\"name\",\"performance Score\"]]\n",
    "selectMultipleColumn"
   ]
  }
 ],
 "metadata": {
  "kernelspec": {
   "display_name": "pylib",
   "language": "python",
   "name": "python3"
  },
  "language_info": {
   "codemirror_mode": {
    "name": "ipython",
    "version": 3
   },
   "file_extension": ".py",
   "mimetype": "text/x-python",
   "name": "python",
   "nbconvert_exporter": "python",
   "pygments_lexer": "ipython3",
   "version": "3.11.13"
  }
 },
 "nbformat": 4,
 "nbformat_minor": 5
}
