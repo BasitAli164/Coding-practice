{
 "cells": [
  {
   "cell_type": "markdown",
   "id": "835ee7f8",
   "metadata": {},
   "source": [
    "# Pandas Library"
   ]
  },
  {
   "cell_type": "markdown",
   "id": "cffdc2c3",
   "metadata": {},
   "source": [
    "#### Explore pandas lib from scratch "
   ]
  },
  {
   "cell_type": "code",
   "execution_count": 8,
   "id": "08d7f77f",
   "metadata": {},
   "outputs": [],
   "source": [
    "import pandas as pd;"
   ]
  },
  {
   "cell_type": "markdown",
   "id": "db9294cc",
   "metadata": {},
   "source": [
    "### Read Dataset from local device"
   ]
  },
  {
   "cell_type": "code",
   "execution_count": 9,
   "id": "e8e5322c",
   "metadata": {},
   "outputs": [
    {
     "name": "stdout",
     "output_type": "stream",
     "text": [
      "First five Data:\n",
      "   year   make                model        trim   body transmission  \\\n",
      "0  2015    Kia              Sorento          LX    SUV    automatic   \n",
      "1  2015    Kia              Sorento          LX    SUV    automatic   \n",
      "2  2014    BMW             3 Series  328i SULEV  Sedan    automatic   \n",
      "3  2015  Volvo                  S60          T5  Sedan    automatic   \n",
      "4  2014    BMW  6 Series Gran Coupe        650i  Sedan    automatic   \n",
      "\n",
      "                 vin state  condition  odometer  color interior  \\\n",
      "0  5xyktca69fg566472    ca        5.0   16639.0  white    black   \n",
      "1  5xyktca69fg561319    ca        5.0    9393.0  white    beige   \n",
      "2  wba3c1c51ek116351    ca       45.0    1331.0   gray    black   \n",
      "3  yv1612tb4f1310987    ca       41.0   14282.0  white    black   \n",
      "4  wba6b2c57ed129731    ca       43.0    2641.0   gray    black   \n",
      "\n",
      "                                   seller      mmr  sellingprice  \\\n",
      "0                 kia motors america  inc  20500.0       21500.0   \n",
      "1                 kia motors america  inc  20800.0       21500.0   \n",
      "2  financial services remarketing (lease)  31900.0       30000.0   \n",
      "3                 volvo na rep/world omni  27500.0       27750.0   \n",
      "4  financial services remarketing (lease)  66000.0       67000.0   \n",
      "\n",
      "                                  saledate  \n",
      "0  Tue Dec 16 2014 12:30:00 GMT-0800 (PST)  \n",
      "1  Tue Dec 16 2014 12:30:00 GMT-0800 (PST)  \n",
      "2  Thu Jan 15 2015 04:30:00 GMT-0800 (PST)  \n",
      "3  Thu Jan 29 2015 04:30:00 GMT-0800 (PST)  \n",
      "4  Thu Dec 18 2014 12:30:00 GMT-0800 (PST)  \n",
      "\n",
      "Last five Data:\n",
      "        year    make   model         trim       body transmission  \\\n",
      "558832  2015     Kia    K900       Luxury      Sedan          NaN   \n",
      "558833  2012     Ram    2500  Power Wagon   Crew Cab    automatic   \n",
      "558834  2012     BMW      X5    xDrive35d        SUV    automatic   \n",
      "558835  2015  Nissan  Altima        2.5 S      sedan    automatic   \n",
      "558836  2014    Ford   F-150          XLT  SuperCrew    automatic   \n",
      "\n",
      "                      vin state  condition  odometer   color interior  \\\n",
      "558832  knalw4d4xf6019304    in       45.0   18255.0  silver    black   \n",
      "558833  3c6td5et6cg112407    wa        5.0   54393.0   white    black   \n",
      "558834  5uxzw0c58cl668465    ca       48.0   50561.0   black    black   \n",
      "558835  1n4al3ap0fc216050    ga       38.0   16658.0   white    black   \n",
      "558836  1ftfw1et2eke87277    ca       34.0   15008.0    gray     gray   \n",
      "\n",
      "                                                   seller      mmr  \\\n",
      "558832                                   avis corporation  35300.0   \n",
      "558833                                    i -5 uhlmann rv  30200.0   \n",
      "558834             financial services remarketing (lease)  29800.0   \n",
      "558835  enterprise vehicle exchange / tra / rental / t...  15100.0   \n",
      "558836                   ford motor credit company llc pd  29600.0   \n",
      "\n",
      "        sellingprice                                 saledate  \n",
      "558832       33000.0  Thu Jul 09 2015 07:00:00 GMT-0700 (PDT)  \n",
      "558833       30800.0  Wed Jul 08 2015 09:30:00 GMT-0700 (PDT)  \n",
      "558834       34000.0  Wed Jul 08 2015 09:30:00 GMT-0700 (PDT)  \n",
      "558835       11100.0  Thu Jul 09 2015 06:45:00 GMT-0700 (PDT)  \n",
      "558836       26700.0  Thu May 28 2015 05:30:00 GMT-0700 (PDT)  \n"
     ]
    }
   ],
   "source": [
    "df=pd.read_csv('car_prices.csv') # we can read json, html, xlsx file with the help of pandas\n",
    "print(f\"First five Data:\\n{df.head()}\")\n",
    "print(f\"\\nLast five Data:\\n{df.tail()}\")\n",
    "\n"
   ]
  },
  {
   "cell_type": "markdown",
   "id": "a1767dd4",
   "metadata": {},
   "source": [
    "### Custome Dataset and save in local device\n"
   ]
  },
  {
   "cell_type": "code",
   "execution_count": 10,
   "id": "5c92f8ee",
   "metadata": {},
   "outputs": [],
   "source": [
    "person={\n",
    "    \"personName\":[\"basit\",\"ali\",\"muhammad\"],\n",
    "    \"age\":[23,44,19],\n",
    "    \"gender\":[\"male\",\"male\",\"male\"],\n",
    "    \"weight\":[70.3,70,'2']\n",
    "}\n",
    "\n",
    "person=pd.DataFrame(person)\n",
    "\n",
    "person.to_json(\"output.json\",index=False)\n",
    "\n"
   ]
  },
  {
   "cell_type": "markdown",
   "id": "65c68b4f",
   "metadata": {},
   "source": [
    "## Info and descript Method"
   ]
  },
  {
   "cell_type": "code",
   "execution_count": 11,
   "id": "788671d1",
   "metadata": {},
   "outputs": [
    {
     "name": "stdout",
     "output_type": "stream",
     "text": [
      "<class 'pandas.core.frame.DataFrame'>\n",
      "RangeIndex: 558837 entries, 0 to 558836\n",
      "Data columns (total 16 columns):\n",
      " #   Column        Non-Null Count   Dtype  \n",
      "---  ------        --------------   -----  \n",
      " 0   year          558837 non-null  int64  \n",
      " 1   make          548536 non-null  object \n",
      " 2   model         548438 non-null  object \n",
      " 3   trim          548186 non-null  object \n",
      " 4   body          545642 non-null  object \n",
      " 5   transmission  493485 non-null  object \n",
      " 6   vin           558833 non-null  object \n",
      " 7   state         558837 non-null  object \n",
      " 8   condition     547017 non-null  float64\n",
      " 9   odometer      558743 non-null  float64\n",
      " 10  color         558088 non-null  object \n",
      " 11  interior      558088 non-null  object \n",
      " 12  seller        558837 non-null  object \n",
      " 13  mmr           558799 non-null  float64\n",
      " 14  sellingprice  558825 non-null  float64\n",
      " 15  saledate      558825 non-null  object \n",
      "dtypes: float64(4), int64(1), object(11)\n",
      "memory usage: 68.2+ MB\n",
      "Infor of Dataset: None\n",
      "Sample DataFram:\n",
      "         name  age  salary  performance Score\n",
      "0     shahid   23    3873                 85\n",
      "1      basit   24    9472                 23\n",
      "2    zeeshan   25    2904                 45\n",
      "3     kumail   20    2890                 90\n",
      "4     askari   11    4232                 14\n",
      "5      siraj   23    3211                 45\n",
      "6    shukoor   46    2222                 67\n",
      "7      kazim   78    4562                 78\n",
      "8   muhammad   64    1234                 90\n",
      "9     sakina   30    3421                 33\n",
      "10   khatija   26    1235                 66\n",
      "11     kubra   28    7632                 88\n",
      "Descriptive Statistics:\n",
      "\n",
      "              age       salary  performance Score\n",
      "count  12.000000    12.000000          12.000000\n",
      "mean   33.166667  3907.333333          60.333333\n",
      "std    19.622961  2435.818001          27.436980\n",
      "min    11.000000  1234.000000          14.000000\n",
      "25%    23.000000  2723.000000          42.000000\n",
      "50%    25.500000  3316.000000          66.500000\n",
      "75%    34.000000  4314.500000          85.750000\n",
      "max    78.000000  9472.000000          90.000000\n"
     ]
    }
   ],
   "source": [
    "print(\"Infor of Dataset:\",df.info()) # information about the whole dataset\n",
    "\n",
    "data={\n",
    "    \"name\":[\"shahid\",\"basit\",\"zeeshan\",\"kumail\",\"askari\",\"siraj\",\"shukoor\",\"kazim\",\"muhammad\",\"sakina\",\"khatija\",\"kubra\"],\n",
    "    \"age\":[23,24,25,20,11,23,46,78,64,30,26,28],\n",
    "    \"salary\":[3873,9472,2904,2890,4232,3211,2222,4562,1234,3421,1235,7632],\n",
    "    \"performance Score\":[85,23,45,90,14,45,67,78,90,33,66,88],\n",
    "\n",
    "}\n",
    "\n",
    "sampledf=pd.DataFrame(data)\n",
    "print(\"Sample DataFram:\\n\",sampledf)\n",
    "\n",
    "print(\"Descriptive Statistics:\")\n",
    "print(\"\\n\",sampledf.describe())\n"
   ]
  },
  {
   "cell_type": "markdown",
   "id": "23c27394",
   "metadata": {},
   "source": [
    "## Shape and column"
   ]
  },
  {
   "cell_type": "code",
   "execution_count": 12,
   "id": "8f075517",
   "metadata": {},
   "outputs": [
    {
     "name": "stdout",
     "output_type": "stream",
     "text": [
      "Shape of dataframe (12, 4)\n",
      "Column of Dataset: Index(['name', 'age', 'salary', 'performance Score'], dtype='object')\n"
     ]
    }
   ],
   "source": [
    "print(\"Shape of dataframe\",sampledf.shape)\n",
    "print(\"Column of Dataset:\",sampledf.columns)"
   ]
  },
  {
   "cell_type": "markdown",
   "id": "4457ea52",
   "metadata": {},
   "source": [
    "## Filter and selecting"
   ]
  },
  {
   "cell_type": "code",
   "execution_count": 14,
   "id": "10456355",
   "metadata": {},
   "outputs": [
    {
     "name": "stdout",
     "output_type": "stream",
     "text": [
      "Select single Column in Dataset\n",
      " 0     23\n",
      "1     24\n",
      "2     25\n",
      "3     20\n",
      "4     11\n",
      "5     23\n",
      "6     46\n",
      "7     78\n",
      "8     64\n",
      "9     30\n",
      "10    26\n",
      "11    28\n",
      "Name: age, dtype: int64\n",
      "Select Multiple Column in Dataset\n",
      "     age      name  performance Score\n",
      "0    23    shahid                 85\n",
      "1    24     basit                 23\n",
      "2    25   zeeshan                 45\n",
      "3    20    kumail                 90\n",
      "4    11    askari                 14\n",
      "5    23     siraj                 45\n",
      "6    46   shukoor                 67\n",
      "7    78     kazim                 78\n",
      "8    64  muhammad                 90\n",
      "9    30    sakina                 33\n",
      "10   26   khatija                 66\n",
      "11   28     kubra                 88\n",
      "Filter age:\n",
      "        name  age  salary  performance Score\n",
      "6   shukoor   46    2222                 67\n",
      "7     kazim   78    4562                 78\n",
      "8  muhammad   64    1234                 90\n",
      "Filter on multiple condition:\n",
      "        name  age  salary  performance Score\n",
      "7     kazim   78    4562                 78\n",
      "8  muhammad   64    1234                 90\n",
      "Filter on multiple condition o4:\n",
      "         name  age  salary  performance Score\n",
      "0     shahid   23    3873                 85\n",
      "3     kumail   20    2890                 90\n",
      "6    shukoor   46    2222                 67\n",
      "7      kazim   78    4562                 78\n",
      "8   muhammad   64    1234                 90\n",
      "11     kubra   28    7632                 88\n"
     ]
    }
   ],
   "source": [
    "# Select single  Column\n",
    "\n",
    "selectAge=sampledf[\"age\"]\n",
    "print(\"Select single Column in Dataset\\n\",selectAge)\n",
    "\n",
    "selectMultipleColumn=sampledf[[\"age\",\"name\",\"performance Score\"]]\n",
    "print(\"Select Multiple Column in Dataset\\n\",selectMultipleColumn)\\\n",
    "\n",
    "filterAge=sampledf[sampledf[\"age\"]>30]\n",
    "print(\"Filter age:\\n\",filterAge)\n",
    "\n",
    "\n",
    "filterMultipleCond=sampledf[(sampledf[\"age\"]>30) & (sampledf[\"performance Score\"]>70)]\n",
    "print(\"Filter on multiple condition:\\n\",filterMultipleCond)\n",
    "filterMultipleCondOr=sampledf[(sampledf[\"age\"]>30) | (sampledf[\"performance Score\"]>70)]\n",
    "print(\"Filter on multiple condition o4:\\n\",filterMultipleCondOr)"
   ]
  },
  {
   "cell_type": "markdown",
   "id": "f19fe4c2",
   "metadata": {},
   "source": []
  }
 ],
 "metadata": {
  "kernelspec": {
   "display_name": "pylib",
   "language": "python",
   "name": "python3"
  },
  "language_info": {
   "codemirror_mode": {
    "name": "ipython",
    "version": 3
   },
   "file_extension": ".py",
   "mimetype": "text/x-python",
   "name": "python",
   "nbconvert_exporter": "python",
   "pygments_lexer": "ipython3",
   "version": "3.11.13"
  }
 },
 "nbformat": 4,
 "nbformat_minor": 5
}
