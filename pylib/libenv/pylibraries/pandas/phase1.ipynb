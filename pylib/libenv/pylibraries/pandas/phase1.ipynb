{
 "cells": [
  {
   "cell_type": "markdown",
   "id": "835ee7f8",
   "metadata": {},
   "source": [
    "# Pandas Library"
   ]
  },
  {
   "cell_type": "markdown",
   "id": "cffdc2c3",
   "metadata": {},
   "source": [
    "#### Explore pandas lib from scratch "
   ]
  },
  {
   "cell_type": "code",
   "execution_count": null,
   "id": "08d7f77f",
   "metadata": {},
   "outputs": [],
   "source": [
    "import pandas as pd;"
   ]
  },
  {
   "cell_type": "markdown",
   "id": "db9294cc",
   "metadata": {},
   "source": [
    "### Read Dataset"
   ]
  },
  {
   "cell_type": "code",
   "execution_count": null,
   "id": "e8e5322c",
   "metadata": {},
   "outputs": [
    {
     "name": "stdout",
     "output_type": "stream",
     "text": [
      "First five Data:\n",
      "   year   make                model        trim   body transmission  \\\n",
      "0  2015    Kia              Sorento          LX    SUV    automatic   \n",
      "1  2015    Kia              Sorento          LX    SUV    automatic   \n",
      "2  2014    BMW             3 Series  328i SULEV  Sedan    automatic   \n",
      "3  2015  Volvo                  S60          T5  Sedan    automatic   \n",
      "4  2014    BMW  6 Series Gran Coupe        650i  Sedan    automatic   \n",
      "\n",
      "                 vin state  condition  odometer  color interior  \\\n",
      "0  5xyktca69fg566472    ca        5.0   16639.0  white    black   \n",
      "1  5xyktca69fg561319    ca        5.0    9393.0  white    beige   \n",
      "2  wba3c1c51ek116351    ca       45.0    1331.0   gray    black   \n",
      "3  yv1612tb4f1310987    ca       41.0   14282.0  white    black   \n",
      "4  wba6b2c57ed129731    ca       43.0    2641.0   gray    black   \n",
      "\n",
      "                                   seller      mmr  sellingprice  \\\n",
      "0                 kia motors america  inc  20500.0       21500.0   \n",
      "1                 kia motors america  inc  20800.0       21500.0   \n",
      "2  financial services remarketing (lease)  31900.0       30000.0   \n",
      "3                 volvo na rep/world omni  27500.0       27750.0   \n",
      "4  financial services remarketing (lease)  66000.0       67000.0   \n",
      "\n",
      "                                  saledate  \n",
      "0  Tue Dec 16 2014 12:30:00 GMT-0800 (PST)  \n",
      "1  Tue Dec 16 2014 12:30:00 GMT-0800 (PST)  \n",
      "2  Thu Jan 15 2015 04:30:00 GMT-0800 (PST)  \n",
      "3  Thu Jan 29 2015 04:30:00 GMT-0800 (PST)  \n",
      "4  Thu Dec 18 2014 12:30:00 GMT-0800 (PST)  \n",
      "\n",
      "Last five Data:\n",
      "        year    make   model         trim       body transmission  \\\n",
      "558832  2015     Kia    K900       Luxury      Sedan          NaN   \n",
      "558833  2012     Ram    2500  Power Wagon   Crew Cab    automatic   \n",
      "558834  2012     BMW      X5    xDrive35d        SUV    automatic   \n",
      "558835  2015  Nissan  Altima        2.5 S      sedan    automatic   \n",
      "558836  2014    Ford   F-150          XLT  SuperCrew    automatic   \n",
      "\n",
      "                      vin state  condition  odometer   color interior  \\\n",
      "558832  knalw4d4xf6019304    in       45.0   18255.0  silver    black   \n",
      "558833  3c6td5et6cg112407    wa        5.0   54393.0   white    black   \n",
      "558834  5uxzw0c58cl668465    ca       48.0   50561.0   black    black   \n",
      "558835  1n4al3ap0fc216050    ga       38.0   16658.0   white    black   \n",
      "558836  1ftfw1et2eke87277    ca       34.0   15008.0    gray     gray   \n",
      "\n",
      "                                                   seller      mmr  \\\n",
      "558832                                   avis corporation  35300.0   \n",
      "558833                                    i -5 uhlmann rv  30200.0   \n",
      "558834             financial services remarketing (lease)  29800.0   \n",
      "558835  enterprise vehicle exchange / tra / rental / t...  15100.0   \n",
      "558836                   ford motor credit company llc pd  29600.0   \n",
      "\n",
      "        sellingprice                                 saledate  \n",
      "558832       33000.0  Thu Jul 09 2015 07:00:00 GMT-0700 (PDT)  \n",
      "558833       30800.0  Wed Jul 08 2015 09:30:00 GMT-0700 (PDT)  \n",
      "558834       34000.0  Wed Jul 08 2015 09:30:00 GMT-0700 (PDT)  \n",
      "558835       11100.0  Thu Jul 09 2015 06:45:00 GMT-0700 (PDT)  \n",
      "558836       26700.0  Thu May 28 2015 05:30:00 GMT-0700 (PDT)  \n"
     ]
    }
   ],
   "source": [
    "df=pd.read_csv('car_prices.csv') # we can read json, html, xlsx file with the help of pandas\n",
    "print(f\"First five Data:\\n{df.head()}\")\n",
    "print(f\"\\nLast five Data:\\n{df.tail()}\")\n",
    "\n"
   ]
  },
  {
   "cell_type": "markdown",
   "id": "a1767dd4",
   "metadata": {},
   "source": [
    "### Custome Dataset and save in local device\n"
   ]
  },
  {
   "cell_type": "code",
   "execution_count": 10,
   "id": "5c92f8ee",
   "metadata": {},
   "outputs": [],
   "source": [
    "person={\n",
    "    \"personName\":[\"basit\",\"ali\",\"muhammad\"],\n",
    "    \"age\":[23,44,19],\n",
    "    \"gender\":[\"male\",\"male\",\"male\"],\n",
    "    \"weight\":[70.3,70,'2']\n",
    "}\n",
    "\n",
    "person=pd.DataFrame(person)\n",
    "\n",
    "person.to_json(\"output.json\",index=False)\n"
   ]
  }
 ],
 "metadata": {
  "kernelspec": {
   "display_name": "pylib",
   "language": "python",
   "name": "python3"
  },
  "language_info": {
   "codemirror_mode": {
    "name": "ipython",
    "version": 3
   },
   "file_extension": ".py",
   "mimetype": "text/x-python",
   "name": "python",
   "nbconvert_exporter": "python",
   "pygments_lexer": "ipython3",
   "version": "3.11.13"
  }
 },
 "nbformat": 4,
 "nbformat_minor": 5
}
