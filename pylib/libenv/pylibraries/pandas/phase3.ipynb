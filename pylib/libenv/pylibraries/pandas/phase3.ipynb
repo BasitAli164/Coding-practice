{
 "cells": [
  {
   "cell_type": "markdown",
   "id": "4c77b1f1",
   "metadata": {},
   "source": [
    "# Interpolation"
   ]
  },
  {
   "cell_type": "markdown",
   "id": "c3edd2ec",
   "metadata": {},
   "source": [
    "This is a technique where we fill any value if that are missing in its sequence means age column there 20,21,22,_,24,_,26,27\n",
    "\n",
    "here missing two value so through interpolation we can fill the estimate value on the base of rest data in column\n",
    "## Note:\n",
    "    Mostly this method use when we are dealing with time series data like stockmarket , trading, numeric data with trends, we can't apply this method with nominal data or attributes etc"
   ]
  },
  {
   "cell_type": "code",
   "execution_count": null,
   "id": "4c836b3f",
   "metadata": {},
   "outputs": [],
   "source": [
    "import pandas as pd;"
   ]
  },
  {
   "cell_type": "code",
   "execution_count": null,
   "id": "86b88f1e",
   "metadata": {},
   "outputs": [],
   "source": [
    "data={\n",
    "    \"name\":[\"shahid\",\"basit\",\"king\",\"kumail\",\"askari\",\"siraj\",\"shukoor\",\"kazim\",\"muhammad\",\"sakina\",\"khatija\",\"kubra\"],\n",
    "    \"age\":[23,24,25,20,None,23,46,78,64,30,26,28],\n",
    "    \"salary\":[3873,9472,None,2890,4232,3211,2222,4562,1234,3421,1235,7632],\n",
    "    \"performance Score\":[85,23,45,None,14,45,67,78,90,33,66,88],\n",
    "\n",
    "}\n",
    "df=pd.DataFrame(data)\n",
    "df"
   ]
  },
  {
   "cell_type": "markdown",
   "id": "a0122398",
   "metadata": {},
   "source": [
    "### Now Interpolation method"
   ]
  },
  {
   "cell_type": "code",
   "execution_count": null,
   "id": "099f6f60",
   "metadata": {},
   "outputs": [],
   "source": [
    "df.interpolate(method=\"linear\",axis=0,inplace=True)\n",
    "df"
   ]
  },
  {
   "cell_type": "markdown",
   "id": "472a7d74",
   "metadata": {},
   "source": [
    "# Sorting and Aggregation"
   ]
  },
  {
   "cell_type": "markdown",
   "id": "198071a3",
   "metadata": {},
   "source": [
    "### Sorting"
   ]
  },
  {
   "cell_type": "code",
   "execution_count": null,
   "id": "6cabb7e2",
   "metadata": {},
   "outputs": [],
   "source": [
    "# Sorting data in 1 column trhough sort_values()\n",
    "df.sort_values(by=\"age\",ascending=False,inplace=True) # ascending=false/true\n",
    "print(\"Sorted data by ascending: \\n\") \n",
    "df"
   ]
  },
  {
   "cell_type": "code",
   "execution_count": null,
   "id": "b3349e44",
   "metadata": {},
   "outputs": [],
   "source": [
    "# Sorting data with multiple column\n",
    "\n",
    "df.sort_values(by=['age','salary'],ascending=[True,False],inplace=True)\n",
    "print(\"Sorting data on the base of multiple column:\\n\")\n",
    "df"
   ]
  },
  {
   "cell_type": "markdown",
   "id": "e4f88c54",
   "metadata": {},
   "source": [
    "### Aggregation\n"
   ]
  },
  {
   "cell_type": "markdown",
   "id": "c81524c4",
   "metadata": {},
   "source": [
    "the following are the aggregation methods like mean(),median(),mode(),sum(),max(), min()"
   ]
  },
  {
   "cell_type": "code",
   "execution_count": 3,
   "id": "6e84097d",
   "metadata": {},
   "outputs": [
    {
     "name": "stdout",
     "output_type": "stream",
     "text": [
      "Average Salary: 3998.5454545454545\n"
     ]
    }
   ],
   "source": [
    "avgSalary=df['salary'].mean()\n",
    "\n",
    "print(\"Average Salary:\",avgSalary)"
   ]
  }
 ],
 "metadata": {
  "kernelspec": {
   "display_name": "pylib",
   "language": "python",
   "name": "python3"
  },
  "language_info": {
   "codemirror_mode": {
    "name": "ipython",
    "version": 3
   },
   "file_extension": ".py",
   "mimetype": "text/x-python",
   "name": "python",
   "nbconvert_exporter": "python",
   "pygments_lexer": "ipython3",
   "version": "3.11.13"
  }
 },
 "nbformat": 4,
 "nbformat_minor": 5
}
