{
 "cells": [
  {
   "cell_type": "markdown",
   "id": "4c77b1f1",
   "metadata": {},
   "source": [
    "# Interpolation"
   ]
  },
  {
   "cell_type": "markdown",
   "id": "c3edd2ec",
   "metadata": {},
   "source": [
    "This is a technique where we fill any value if that are missing in its sequence"
   ]
  }
 ],
 "metadata": {
  "language_info": {
   "name": "python"
  }
 },
 "nbformat": 4,
 "nbformat_minor": 5
}
