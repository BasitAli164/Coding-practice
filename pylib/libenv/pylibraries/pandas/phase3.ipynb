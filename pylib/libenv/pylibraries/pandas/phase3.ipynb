{
 "cells": [
  {
   "cell_type": "markdown",
   "id": "4c77b1f1",
   "metadata": {},
   "source": [
    "# Interpolation"
   ]
  },
  {
   "cell_type": "markdown",
   "id": "c3edd2ec",
   "metadata": {},
   "source": [
    "This is a technique where we fill any value if that are missing in its sequence means age column there 20,21,22,_,24,_,26,27\n",
    "\n",
    "here missing two value so through interpolation we can fill the estimate value on the base of rest data in column\n",
    "## Note:\n",
    "    Mostly this method use when we are dealing with time series data like stockmarket , trading, numeric data with trends, we can't apply this method with nominal data or attributes etc"
   ]
  },
  {
   "cell_type": "code",
   "execution_count": 8,
   "id": "4c836b3f",
   "metadata": {},
   "outputs": [],
   "source": [
    "import pandas as pd;"
   ]
  },
  {
   "cell_type": "code",
   "execution_count": 11,
   "id": "86b88f1e",
   "metadata": {},
   "outputs": [
    {
     "data": {
      "text/html": [
       "<div>\n",
       "<style scoped>\n",
       "    .dataframe tbody tr th:only-of-type {\n",
       "        vertical-align: middle;\n",
       "    }\n",
       "\n",
       "    .dataframe tbody tr th {\n",
       "        vertical-align: top;\n",
       "    }\n",
       "\n",
       "    .dataframe thead th {\n",
       "        text-align: right;\n",
       "    }\n",
       "</style>\n",
       "<table border=\"1\" class=\"dataframe\">\n",
       "  <thead>\n",
       "    <tr style=\"text-align: right;\">\n",
       "      <th></th>\n",
       "      <th>name</th>\n",
       "      <th>age</th>\n",
       "      <th>salary</th>\n",
       "      <th>performance Score</th>\n",
       "    </tr>\n",
       "  </thead>\n",
       "  <tbody>\n",
       "    <tr>\n",
       "      <th>0</th>\n",
       "      <td>shahid</td>\n",
       "      <td>23.0</td>\n",
       "      <td>3873.0</td>\n",
       "      <td>85.0</td>\n",
       "    </tr>\n",
       "    <tr>\n",
       "      <th>1</th>\n",
       "      <td>basit</td>\n",
       "      <td>24.0</td>\n",
       "      <td>9472.0</td>\n",
       "      <td>23.0</td>\n",
       "    </tr>\n",
       "    <tr>\n",
       "      <th>2</th>\n",
       "      <td>king</td>\n",
       "      <td>25.0</td>\n",
       "      <td>NaN</td>\n",
       "      <td>45.0</td>\n",
       "    </tr>\n",
       "    <tr>\n",
       "      <th>3</th>\n",
       "      <td>kumail</td>\n",
       "      <td>20.0</td>\n",
       "      <td>2890.0</td>\n",
       "      <td>NaN</td>\n",
       "    </tr>\n",
       "    <tr>\n",
       "      <th>4</th>\n",
       "      <td>askari</td>\n",
       "      <td>NaN</td>\n",
       "      <td>4232.0</td>\n",
       "      <td>14.0</td>\n",
       "    </tr>\n",
       "    <tr>\n",
       "      <th>5</th>\n",
       "      <td>basit</td>\n",
       "      <td>23.0</td>\n",
       "      <td>3211.0</td>\n",
       "      <td>45.0</td>\n",
       "    </tr>\n",
       "    <tr>\n",
       "      <th>6</th>\n",
       "      <td>shukoor</td>\n",
       "      <td>46.0</td>\n",
       "      <td>2222.0</td>\n",
       "      <td>67.0</td>\n",
       "    </tr>\n",
       "    <tr>\n",
       "      <th>7</th>\n",
       "      <td>kazim</td>\n",
       "      <td>78.0</td>\n",
       "      <td>4562.0</td>\n",
       "      <td>78.0</td>\n",
       "    </tr>\n",
       "    <tr>\n",
       "      <th>8</th>\n",
       "      <td>muhammad</td>\n",
       "      <td>64.0</td>\n",
       "      <td>1234.0</td>\n",
       "      <td>90.0</td>\n",
       "    </tr>\n",
       "    <tr>\n",
       "      <th>9</th>\n",
       "      <td>sakina</td>\n",
       "      <td>30.0</td>\n",
       "      <td>3421.0</td>\n",
       "      <td>33.0</td>\n",
       "    </tr>\n",
       "    <tr>\n",
       "      <th>10</th>\n",
       "      <td>khatija</td>\n",
       "      <td>26.0</td>\n",
       "      <td>1235.0</td>\n",
       "      <td>66.0</td>\n",
       "    </tr>\n",
       "    <tr>\n",
       "      <th>11</th>\n",
       "      <td>kubra</td>\n",
       "      <td>28.0</td>\n",
       "      <td>7632.0</td>\n",
       "      <td>88.0</td>\n",
       "    </tr>\n",
       "  </tbody>\n",
       "</table>\n",
       "</div>"
      ],
      "text/plain": [
       "        name   age  salary  performance Score\n",
       "0     shahid  23.0  3873.0               85.0\n",
       "1      basit  24.0  9472.0               23.0\n",
       "2       king  25.0     NaN               45.0\n",
       "3     kumail  20.0  2890.0                NaN\n",
       "4     askari   NaN  4232.0               14.0\n",
       "5      basit  23.0  3211.0               45.0\n",
       "6    shukoor  46.0  2222.0               67.0\n",
       "7      kazim  78.0  4562.0               78.0\n",
       "8   muhammad  64.0  1234.0               90.0\n",
       "9     sakina  30.0  3421.0               33.0\n",
       "10   khatija  26.0  1235.0               66.0\n",
       "11     kubra  28.0  7632.0               88.0"
      ]
     },
     "execution_count": 11,
     "metadata": {},
     "output_type": "execute_result"
    }
   ],
   "source": [
    "data={\n",
    "    \"name\":[\"shahid\",\"basit\",\"king\",\"kumail\",\"askari\",\"basit\",\"shukoor\",\"kazim\",\"muhammad\",\"sakina\",\"khatija\",\"kubra\"],\n",
    "    \"age\":[23,24,25,20,None,23,46,78,64,30,26,28],\n",
    "    \"salary\":[3873,9472,None,2890,4232,3211,2222,4562,1234,3421,1235,7632],\n",
    "    \"performance Score\":[85,23,45,None,14,45,67,78,90,33,66,88],\n",
    "\n",
    "}\n",
    "df=pd.DataFrame(data)\n",
    "df"
   ]
  },
  {
   "cell_type": "markdown",
   "id": "a0122398",
   "metadata": {},
   "source": [
    "### Now Interpolation method"
   ]
  },
  {
   "cell_type": "code",
   "execution_count": null,
   "id": "099f6f60",
   "metadata": {},
   "outputs": [],
   "source": [
    "df.interpolate(method=\"linear\",axis=0,inplace=True)\n",
    "df"
   ]
  },
  {
   "cell_type": "markdown",
   "id": "472a7d74",
   "metadata": {},
   "source": [
    "# Sorting and Aggregation"
   ]
  },
  {
   "cell_type": "markdown",
   "id": "198071a3",
   "metadata": {},
   "source": [
    "### Sorting"
   ]
  },
  {
   "cell_type": "code",
   "execution_count": null,
   "id": "6cabb7e2",
   "metadata": {},
   "outputs": [],
   "source": [
    "# Sorting data in 1 column trhough sort_values()\n",
    "df.sort_values(by=\"age\",ascending=False,inplace=True) # ascending=false/true\n",
    "print(\"Sorted data by ascending: \\n\") \n",
    "df"
   ]
  },
  {
   "cell_type": "code",
   "execution_count": null,
   "id": "b3349e44",
   "metadata": {},
   "outputs": [],
   "source": [
    "# Sorting data with multiple column\n",
    "\n",
    "df.sort_values(by=['age','salary'],ascending=[True,False],inplace=True)\n",
    "print(\"Sorting data on the base of multiple column:\\n\")\n",
    "df"
   ]
  },
  {
   "cell_type": "markdown",
   "id": "e4f88c54",
   "metadata": {},
   "source": [
    "### Aggregation\n"
   ]
  },
  {
   "cell_type": "markdown",
   "id": "c81524c4",
   "metadata": {},
   "source": [
    "the following are the aggregation methods like mean(),median(),mode(),sum(),max(), min(),count(),std(),var()"
   ]
  },
  {
   "cell_type": "code",
   "execution_count": 12,
   "id": "6e84097d",
   "metadata": {},
   "outputs": [
    {
     "name": "stdout",
     "output_type": "stream",
     "text": [
      "Average Salary: 3998.5454545454545\n",
      "Group vise:\n",
      "  age\n",
      "20.0    2890.0\n",
      "23.0    7084.0\n",
      "24.0    9472.0\n",
      "25.0       0.0\n",
      "26.0    1235.0\n",
      "28.0    7632.0\n",
      "30.0    3421.0\n",
      "46.0    2222.0\n",
      "64.0    1234.0\n",
      "78.0    4562.0\n",
      "Name: salary, dtype: float64\n",
      "MultGrp:\n",
      " age   name    \n",
      "20.0  kumail      2890.0\n",
      "23.0  basit       3211.0\n",
      "      shahid      3873.0\n",
      "24.0  basit       9472.0\n",
      "25.0  king           0.0\n",
      "26.0  khatija     1235.0\n",
      "28.0  kubra       7632.0\n",
      "30.0  sakina      3421.0\n",
      "46.0  shukoor     2222.0\n",
      "64.0  muhammad    1234.0\n",
      "78.0  kazim       4562.0\n",
      "Name: salary, dtype: float64\n"
     ]
    }
   ],
   "source": [
    "avgSalary=df['salary'].mean()\n",
    "\n",
    "print(\"Average Salary:\",avgSalary)\n",
    "\n",
    "# group on the base of single column\n",
    "groupVise=df.groupby(\"age\")[\"salary\"].sum()\n",
    "print(\"Group vise:\\n \",groupVise)\n",
    "\n",
    "\n",
    " # group on the base of multiple column\n",
    "multGrp=df.groupby([\"age\",\"name\"])['salary'].sum()\n",
    "print(\"MultGrp:\\n\",multGrp)"
   ]
  }
 ],
 "metadata": {
  "kernelspec": {
   "display_name": "pylib",
   "language": "python",
   "name": "python3"
  },
  "language_info": {
   "codemirror_mode": {
    "name": "ipython",
    "version": 3
   },
   "file_extension": ".py",
   "mimetype": "text/x-python",
   "name": "python",
   "nbconvert_exporter": "python",
   "pygments_lexer": "ipython3",
   "version": "3.11.13"
  }
 },
 "nbformat": 4,
 "nbformat_minor": 5
}
